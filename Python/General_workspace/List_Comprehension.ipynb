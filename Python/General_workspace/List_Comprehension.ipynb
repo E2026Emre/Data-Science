{
 "cells": [
  {
   "cell_type": "code",
   "execution_count": 2,
   "metadata": {},
   "outputs": [
    {
     "name": "stdout",
     "output_type": "stream",
     "text": [
      "[1, 2, 3, 4, 5, 6, 7, 8, 9]\n"
     ]
    }
   ],
   "source": [
    "#list comprehension\n",
    "lst=[1,2,3,4,5,6,7,8,9]\n",
    "dct={\"bir\":1, \"iki\":2, \"üç\":3}\n",
    "#Yukarıdaki sözlük ve list ile comprehension deneme yanılmaları yapalım.. Aşama aşama çıktısını görelim\n",
    "x=[x for x in lst]\n",
    "print(x)"
   ]
  },
  {
   "cell_type": "markdown",
   "metadata": {},
   "source": [
    "1. if komutunu, list comprehension sonuna bağlayarak verilen listede sadece koşulu sağlayanları yazdırdık.."
   ]
  },
  {
   "cell_type": "code",
   "execution_count": 5,
   "metadata": {},
   "outputs": [
    {
     "name": "stdout",
     "output_type": "stream",
     "text": [
      "[2, 4, 6, 8]\n"
     ]
    }
   ],
   "source": [
    "#verilen listede if koşulu ile filtreleme yapabiliriz. Şöyle ki:\n",
    "x=[x for x in lst if x%2==0] \n",
    "print(x)"
   ]
  },
  {
   "cell_type": "markdown",
   "metadata": {},
   "source": [
    "2. if else komutlarını for dögü içerisindeki herbir x değerine etki ettirerek çift sayıları yazdırdık çift olmayanlara ise bir string değer yazdırabildik.\n",
    "Dikkat: if else koşulu döngü içerisinde döndürülen x değerinden sonra olmalı ve if koşulu ile else koşulu beraber kullanılmalı."
   ]
  },
  {
   "cell_type": "code",
   "execution_count": 8,
   "metadata": {},
   "outputs": [
    {
     "name": "stdout",
     "output_type": "stream",
     "text": [
      "['not even', 2, 'not even', 4, 'not even', 6, 'not even', 8, 'not even']\n"
     ]
    }
   ],
   "source": [
    "x=[x if x%2==0 else \"not even\" for x in lst ] \n",
    "print(x)"
   ]
  },
  {
   "cell_type": "code",
   "execution_count": 9,
   "metadata": {},
   "outputs": [
    {
     "ename": "SyntaxError",
     "evalue": "invalid syntax (<ipython-input-9-02fcc8360b70>, line 1)",
     "output_type": "error",
     "traceback": [
      "\u001b[1;36m  File \u001b[1;32m\"<ipython-input-9-02fcc8360b70>\"\u001b[1;36m, line \u001b[1;32m1\u001b[0m\n\u001b[1;33m    x=[x if x%2==0 for x in lst ]\u001b[0m\n\u001b[1;37m                     ^\u001b[0m\n\u001b[1;31mSyntaxError\u001b[0m\u001b[1;31m:\u001b[0m invalid syntax\n"
     ]
    }
   ],
   "source": [
    "x=[x if x%2==0 for x in lst ] #sadece if kullanırsak bu syntax da hata verecektir.\n",
    "print(x)"
   ]
  },
  {
   "cell_type": "markdown",
   "metadata": {},
   "source": [
    "3. Task : Print the FizzBuzz numbers.\n",
    "FizzBuzz is a famous code challenge used in interviews to test basic programming skills. It's time to write your own implementation.\n",
    "\n",
    "Print numbers from 1 to 100 inclusively following these instructions:\n",
    "\n",
    "if a number is multiple of 3, print \"Fizz\" instead of this number,\n",
    "if a number is multiple of 5, print \"Buzz\" instead of this number,\n",
    "for numbers that are multiples of both 3 and 5, print \"FizzBuzz\",\n",
    "print the rest of the numbers unchanged.\n",
    "\n",
    "Output each value on a separate line."
   ]
  },
  {
   "cell_type": "code",
   "execution_count": 12,
   "metadata": {},
   "outputs": [
    {
     "name": "stdout",
     "output_type": "stream",
     "text": [
      "[1, 2, 'Fizz', 4, 'Buzz', 'Fizz', 7, 8, 'Fizz', 'Buzz', 11, 'Fizz', 13, 14, 'FizzBuzz', 16, 17, 'Fizz', 19, 'Buzz', 'Fizz', 22, 23, 'Fizz', 'Buzz', 26, 'Fizz', 28, 29, 'FizzBuzz', 31, 32, 'Fizz', 34, 'Buzz', 'Fizz', 37, 38, 'Fizz', 'Buzz', 41, 'Fizz', 43, 44, 'FizzBuzz', 46, 47, 'Fizz', 49, 'Buzz', 'Fizz', 52, 53, 'Fizz', 'Buzz', 56, 'Fizz', 58, 59, 'FizzBuzz', 61, 62, 'Fizz', 64, 'Buzz', 'Fizz', 67, 68, 'Fizz', 'Buzz', 71, 'Fizz', 73, 74, 'FizzBuzz', 76, 77, 'Fizz', 79, 'Buzz', 'Fizz', 82, 83, 'Fizz', 'Buzz', 86, 'Fizz', 88, 89, 'FizzBuzz', 91, 92, 'Fizz', 94, 'Buzz', 'Fizz', 97, 98, 'Fizz', 'Buzz']\n"
     ]
    }
   ],
   "source": [
    "numbers= [(\"FizzBuzz\" if x%15==0 else x and \"Fizz\" if x%3==0 else x and \"Buzz\" if x%5==0 else x)  for x in range(1,101)]\n",
    "print(numbers)\n"
   ]
  },
  {
   "cell_type": "markdown",
   "metadata": {},
   "source": [
    "Yukarıdaki örnekte if else koşullarını \"and\" ve \"or\" ile birleştirelebiceğimizi görmektesiniz. Ayrıca döndürülen \"x\" değeri yerine PEP8 kurallarına ve Python syntax'a uygun herşeyi şeyi dönüştürebiliriz.\n"
   ]
  },
  {
   "cell_type": "code",
   "execution_count": null,
   "metadata": {},
   "outputs": [],
   "source": [
    "numbers= [(\"FizzBuzz\" if x%15==0 else x and \"Fizz\" if x%3==0 else x and \"Buzz\" if x%5==0 else x)  for x in range(1,101)]\n",
    "print(numbers)\n"
   ]
  },
  {
   "cell_type": "markdown",
   "metadata": {},
   "source": [
    "4. Nested Loop(İç içe geçmiş döngü)lerle deneme yanılma yapalım:\n",
    "Örnek olarak stack overflow da bir makaleye başvuralım. Google da aratma yaparken kelimelerin ingilizce olmasına dikkat edelim. Örnek aratma : \"how to make list comprehansion for nested loop\"\n",
    "ilk sayfada buna benzer bir başlıkla stack overflow linki çıkacaktır,eğer bu konu ile ilgili makale varsa.\n",
    "https://stackoverflow.com/questions/3633140/nested-for-loops-using-list-comprehension karşımıza çıkan link.\n",
    "Açtığımız makaledeki soru iki string değerin kombinasyonunu yapma ile ilgili bir soru. Biz makaledeki soruya odaklanmaktan ziyade kurulan algoritmayı anlamak ve kendi istediğimiz çözüme uyarlamak olucak."
   ]
  },
  {
   "cell_type": "markdown",
   "metadata": {},
   "source": [
    "\n",
    "If I had two strings, 'abc' and 'def', I could get all combinations of them using two for loops:\n",
    "\n",
    "for j in s1:\n",
    "  for k in s2:\n",
    "    print(j, k)\n",
    "\n",
    "However, I would like to be able to do this using list comprehension. I've tried many ways, but have never managed to get it. Does anyone know how to do this?\n",
    "\n",
    "\n",
    "lst = [j + k for j in s1 for k in s2]\n",
    "\n",
    "or\n",
    "\n",
    "lst = [(j, k) for j in s1 for k in s2]\n",
    "\n",
    "if you want tuples.\n",
    "\n",
    "Like in the question, for j... is the outer loop, for k... is the inner loop.\n",
    "\n",
    "Essentially, you can have as many independent 'for x in y' clauses as you want in a list comprehension just by sticking one after the other.\n"
   ]
  },
  {
   "cell_type": "code",
   "execution_count": 16,
   "metadata": {},
   "outputs": [
    {
     "name": "stdout",
     "output_type": "stream",
     "text": [
      "a d\n",
      "a e\n",
      "a f\n",
      "b d\n",
      "b e\n",
      "b f\n",
      "c d\n",
      "c e\n",
      "c f\n",
      "['ad', 'ae', 'af', 'bd', 'be', 'bf', 'cd', 'ce', 'cf']\n"
     ]
    }
   ],
   "source": [
    "s1=\"abc\"\n",
    "s2=\"def\"\n",
    "for j in s1: #ikili combinasyon\n",
    "  for k in s2:\n",
    "    print(j, k)\n",
    "lst = [j + k for j in s1 for k in s2] \n",
    "print(lst)"
   ]
  },
  {
   "cell_type": "markdown",
   "metadata": {},
   "source": [
    "lst = [j + k for j in s1 for k in s2] \n",
    "#böl-parçala-anla :) (j + k for in s1) --> bir loop \n",
    "[x for x in lst] syntax ı bizim her zaman uyarlayacağımız durum. bu durumda ana, en dıştaki döngü  s1 stringinde döndürülen. bu syntax da x--> (j + k for in s1) olmaktadır. \n",
    "... for x in lst] ise --> for k in s2\n",
    "İçiçe yazılan loop'larda bir önceki for loop unun sağındaki loop'u kapsadığını unutmayınız."
   ]
  },
  {
   "cell_type": "code",
   "execution_count": null,
   "metadata": {},
   "outputs": [],
   "source": [
    "4.a. İçdeki döngünün her bir elemanı bitmeden dıştaki döngüye geçemez. Örneğimizde :\n",
    "    s1 içerisindeki \"a\" elemanı s2 sub-loop'undaki tüm elemanların sayısı kadar dönücek.\n",
    "    Ancak nasıl döndürüleceği bizim for kelimesinin önüne yazdığımız şekilde olucak."
   ]
  },
  {
   "cell_type": "code",
   "execution_count": 22,
   "metadata": {},
   "outputs": [
    {
     "name": "stdout",
     "output_type": "stream",
     "text": [
      "['ad', 'ae', 'af', 'bd', 'be', 'bf', 'cd', 'ce', 'cf']\n"
     ]
    }
   ],
   "source": [
    "s1=\"abc\"\n",
    "s2=\"def\"\n",
    "lst = [j + k for j in s1 for k in s2] \n",
    "print(lst)\n",
    "# \"a\" elemanı \"d\",\"e\",\"f\" miktarı kadar 3 kez loop içerinde döndü. Ancak istenilen çıktı \n",
    "#s2 stringi içerindeki eleman ile olması,çıktıyı  j+k diye istememizden kaynaklı."
   ]
  },
  {
   "cell_type": "code",
   "execution_count": 20,
   "metadata": {},
   "outputs": [
    {
     "name": "stdout",
     "output_type": "stream",
     "text": [
      "['a', 'a', 'a', 'b', 'b', 'b', 'c', 'c', 'c']\n"
     ]
    }
   ],
   "source": [
    "s1=\"abc\"\n",
    "s2=\"def\"\n",
    "lst = [j for j in s1 for k in s2] \n",
    "print(lst) #görüldüğü gibi sadece j dönecek olsa en dıştaki loop elemanlarının ne olduğuna bakmadan \n",
    "#s2 eleman sayısı kadar s1 elemanlarını yazdırıyor."
   ]
  },
  {
   "cell_type": "code",
   "execution_count": 29,
   "metadata": {},
   "outputs": [
    {
     "name": "stdout",
     "output_type": "stream",
     "text": [
      "['d', 'e', 'f', 'd', 'e', 'f', 'd', 'e', 'f']\n"
     ]
    }
   ],
   "source": [
    "s1=\"abc\"\n",
    "s2=\"def\"\n",
    "lst = [k for j in s1 for k in s2] \n",
    "print(lst) # içteki s2 loop elemanı olan \"k\" çıktısını istediğimizde s2 stringinin hepsini döndürüp \n",
    "#sonra s1 string'in ikinci elemanına geçiyor. Ancak dikkat edin for ifadesinin önüne çıktımızı k olarak istediğimiz\n",
    "#için s1 stringi ile ilgili herhangi bir eleman yazdırmadı."
   ]
  },
  {
   "cell_type": "markdown",
   "metadata": {},
   "source": [
    "4.b. Built-in function ile kontrolü ele geçirme:)\n",
    "Soruda s1 string içerisndeki en fazla tekrarlanan eleman değeri, s2 string içerisinde \"-\" olarak değiştirilmesini sağlayalım.\n",
    "lst = [k for j in s1 for k in s2] \n",
    "print(lst)"
   ]
  },
  {
   "cell_type": "code",
   "execution_count": 10,
   "metadata": {},
   "outputs": [
    {
     "name": "stdout",
     "output_type": "stream",
     "text": [
      "b\n",
      "['b', 'l', 'a', 'b', 'l', 'a', 'c', 'a', 'r']\n",
      "['-', 'l', 'a', '-', 'l', 'a', 'c', 'a', 'r']\n",
      "- l a - l a c a r\n",
      "-la-lacar\n",
      "-la-lacar\n"
     ]
    }
   ],
   "source": [
    "s1=\"abcbdbb\"\n",
    "s2=\"blablacar\"\n",
    "print(max(s1, key=s1.count)) #s1 içerisinde en fazla tekrarlanan elamanı max() func. ve count methodu ile bulduk.\n",
    "x=[x for x in s2] # s2 stringi harfleri elemanları olan bir listeye çevirdik.\n",
    "print(x)\n",
    "x=[\"-\" if x==max(s1, key=s1.count) else x for x in s2] # çıktı olan \"x\" elamınını \n",
    "#if else koşulu ile eğer \"b\" ise \"-\", değil ise s2 liste elemanının yazdırılmasını sağladık.\n",
    "print(x) #output liste şeklinde vericektir.\n",
    "print(*x) #asteriks \"*\" ile listeyi dışarı çıkardık. Ancak liste elemanları birer boşluklu çıkacaktır.\n",
    "print(*x, sep=\"\") # print fonksiyonunun \"sep\"(seperation) özelliği ile (white space)her bir boşluk yerine\n",
    "#\"\" boşluk olmamasını sağladık.\n",
    "print(\"\".join(x)) #built-in funct. olan \"join\" ile de aynı işleme yapabiliriz.."
   ]
  },
  {
   "cell_type": "markdown",
   "metadata": {},
   "source": [
    "5. Dictionary özellikleri ile işin içinden çıkmayacağınız karmaşık collection'ları derleyebilirsiniz."
   ]
  },
  {
   "cell_type": "code",
   "execution_count": 38,
   "metadata": {},
   "outputs": [
    {
     "name": "stdout",
     "output_type": "stream",
     "text": [
      "[1, 2, 3]\n",
      "[2, 3, 4]\n",
      "['bir', 'iki', 'üç']\n",
      "[1, 2, 3]\n",
      "[None, None, None]\n",
      "{'bir': 'sample', 'iki': 'sample', 'üç': 'sample'}\n"
     ]
    }
   ],
   "source": [
    "# sözlükteli value değerlere işlem yapmayı aşama aşama çalıştıralım..\n",
    "dct={\"bir\":1, \"iki\":2, \"üç\":3}\n",
    "x=[x for x in dct.values()] #sözlükteki tüm valuable listelendi.\n",
    "print(x)\n",
    "x=[x+1 for x in dct.values()]  #sözlükteki valuable'lara işlem yapabiliriz.\n",
    "print(x)\n",
    "x=[x for x in dct] #Unutmayın list comprehansion da sözlüğü yazdırdığınızda sadece keyleri listeler.\n",
    "print(x)\n",
    "x=[dct[x] for x in dct]# sözlük özelliğini kullanarak key'leri yazdırdık\n",
    "print(x)\n",
    "x=[dct.update({x:\"sample\"}) for x in dct]\n",
    "print(x) # x listemiz ise none değerlerine döndü çünkü loop'un döndüğü dct değiştiğinden default:none verdi x değerleine\n",
    "print(dct) #update methodu ile dct içerisindeki tüm key değerlerine \"sample\" atadık"
   ]
  },
  {
   "cell_type": "markdown",
   "metadata": {},
   "source": [
    "6. Sözlükteki key veya value değerlerine göre sorted(sıralandırma) yapma:\n",
    "https://stackoverflow.com/questions/613183/how-do-i-sort-a-dictionary-by-value"
   ]
  },
  {
   "cell_type": "code",
   "execution_count": 3,
   "metadata": {},
   "outputs": [
    {
     "name": "stdout",
     "output_type": "stream",
     "text": [
      "['altı', 'bir', 'iki', 'üç']\n",
      "[1, 2, 3, 6]\n",
      "[('altı', 6), ('bir', 1), ('iki', 2), ('üç', 3)]\n",
      "[('bir', 1), ('iki', 2), ('üç', 3), ('altı', 6)]\n"
     ]
    }
   ],
   "source": [
    "dct={\"bir\":1, \"üç\":3, \"iki\":2, \"altı\":6}\n",
    "print(sorted(dct)) #görüldüğü gibi sözlükte sorted key'lerin alfabetik veya integer ise numeric\n",
    "#sıralandırmasına göre oluyor.\n",
    "print(sorted(dct.values())) # value sıralandırması yaptık.\n",
    "print(sorted(dct.items()))\n",
    "#Peki sözlüğü tamamen, value değerlerine göre nasıl sıralandırırız.\n",
    "print(sorted(dct.items(), key=lambda x:x[1])) \n",
    "#items methodu ile tüm sözlük elemanları içerinde sıralama yapacağımızı belirttik,\n",
    "#sıralama kıstasını key parametresi ile lambda fonksiyonuna bağladık.\n",
    "#lambda fonksiyonunda liste içerisindeki her bir elemanın ikinci elemanı(x[1]) değerine dönüştür dedik.\n"
   ]
  },
  {
   "cell_type": "markdown",
   "metadata": {},
   "source": [
    "7. Aşağıdaki alıntı https://www.w3schools.com/python/python_ref_functions.asp adresindendir. \n",
    "Burada Python diline ait birçok built-in func. bulunmaktadır. İlk etapta hepsini hakim olmaktan ziyade\n",
    "\"Description\" bölümlerini okuyup fonksiyonun neye yaradığını ne için kullanıldığını zihnimizde bir anımsama olarak\n",
    "yer ettirebiliriz. İlerde karşılaşacağımız bir soruda, algoritma kurarken \"Bu çözümde kullanabileceğim bir built-in vardı sanki\" diyebilip o fonksiyonun özelliklerini öğrenip tekrar soruya dönüp algoritmada kullanırsak,  fonksiyon büyük bir oranda öğrenilmiş olacaktır."
   ]
  },
  {
   "attachments": {
    "resim.png": {
     "image/png": "[encoded data removed]"
    }
   },
   "cell_type": "markdown",
   "metadata": {},
   "source": [
    "![resim.png](attachment:resim.png)"
   ]
  },
  {
   "cell_type": "code",
   "execution_count": null,
   "metadata": {},
   "outputs": [],
   "source": [
    "8. Jupiterin \"tab\" özelliği kod yazarken çok akıllıca bir çözüm olabilir. Aşağıdaki örnekte görüldüğü üzere \n",
    "\"s1\" bir string ve s1 ile bağlantılı olan sadece \"c\" harfi ile başlayan string methodlarını \n",
    "bize seçenek olarak çıkarıyor."
   ]
  },
  {
   "attachments": {
    "resim.png": {
     "image/png": "[encoded data removed]"
    }
   },
   "cell_type": "markdown",
   "metadata": {},
   "source": [
    "![resim.png](attachment:resim.png)"
   ]
  },
  {
   "cell_type": "markdown",
   "metadata": {},
   "source": [
    "9. Aşağıdaki örnekte Jupiter'in \"shift + tab\" özelliği ile yazdığınız fonksiyonun  \"DOCSTRING\" özeti ile \n",
    "ilgili fonksiyonda hangi özellikleri kullanabileceğinize dair kısa ve pratik bir bakış atabilirsiniz."
   ]
  },
  {
   "attachments": {
    "resim.png": {
     "image/png": "[encoded data removed]"
    }
   },
   "cell_type": "markdown",
   "metadata": {},
   "source": [
    "![resim.png](attachment:resim.png)"
   ]
  },
  {
   "cell_type": "markdown",
   "metadata": {},
   "source": []
  }
 ],
 "metadata": {
  "kernelspec": {
   "display_name": "Python 3",
   "language": "python",
   "name": "python3"
  },
  "language_info": {
   "codemirror_mode": {
    "name": "ipython",
    "version": 3
   },
   "file_extension": ".py",
   "mimetype": "text/x-python",
   "name": "python",
   "nbconvert_exporter": "python",
   "pygments_lexer": "ipython3",
   "version": "3.7.6"
  }
 },
 "nbformat": 4,
 "nbformat_minor": 4
}
