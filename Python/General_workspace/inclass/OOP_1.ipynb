{
 "cells": [
  {
   "cell_type": "code",
   "execution_count": 24,
   "metadata": {},
   "outputs": [],
   "source": [
    "class Employee:\n",
    "    \n",
    "    raise_amnt = 1.04\n",
    "    \n",
    "    def __init__(self, firstName, lastName, email, pay):\n",
    "        self.firstName = firstName\n",
    "        self.lastName = lastName\n",
    "        self.email = email\n",
    "        self.pay = pay\n",
    "    \n",
    "    def fullname(self):\n",
    "        return \"{} {}\".format(self.firstName, self.lastName)\n",
    "    \n",
    "    def apply_raise(self):\n",
    "        self.pay = int(self.pay * self.raise_amnt)"
   ]
  },
  {
   "cell_type": "code",
   "execution_count": 25,
   "metadata": {},
   "outputs": [],
   "source": [
    "emp_1 = Employee(\"Martin\", \"Lane\", \"martin.lane@clarusway.com\", 4000)"
   ]
  },
  {
   "cell_type": "code",
   "execution_count": 26,
   "metadata": {},
   "outputs": [],
   "source": [
    "emp_2 = Employee(\"Martin2\", \"Lane2\", \"martin.lane2@clarusway.com\", 5000)"
   ]
  },
  {
   "cell_type": "code",
   "execution_count": 27,
   "metadata": {
    "scrolled": true
   },
   "outputs": [
    {
     "name": "stdout",
     "output_type": "stream",
     "text": [
      "1.04\n"
     ]
    }
   ],
   "source": [
    "print(emp_1.raise_amnt)"
   ]
  },
  {
   "cell_type": "code",
   "execution_count": 28,
   "metadata": {},
   "outputs": [],
   "source": [
    "emp_1.raise_amnt = 1.07"
   ]
  },
  {
   "cell_type": "code",
   "execution_count": 29,
   "metadata": {},
   "outputs": [],
   "source": [
    "Employee.raise_amnt = 1.06"
   ]
  },
  {
   "cell_type": "code",
   "execution_count": 30,
   "metadata": {},
   "outputs": [
    {
     "name": "stdout",
     "output_type": "stream",
     "text": [
      "{'firstName': 'Martin', 'lastName': 'Lane', 'email': 'martin.lane@clarusway.com', 'pay': 4000, 'raise_amnt': 1.07}\n"
     ]
    }
   ],
   "source": [
    "print(emp_1.__dict__)"
   ]
  },
  {
   "cell_type": "code",
   "execution_count": 31,
   "metadata": {},
   "outputs": [
    {
     "name": "stdout",
     "output_type": "stream",
     "text": [
      "{'firstName': 'Martin2', 'lastName': 'Lane2', 'email': 'martin.lane2@clarusway.com', 'pay': 5000}\n"
     ]
    }
   ],
   "source": [
    "print(emp_2.__dict__)"
   ]
  },
  {
   "cell_type": "code",
   "execution_count": 34,
   "metadata": {},
   "outputs": [
    {
     "ename": "SyntaxError",
     "evalue": "invalid syntax (<ipython-input-34-366d844bf56d>, line 1)",
     "output_type": "error",
     "traceback": [
      "\u001b[1;36m  File \u001b[1;32m\"<ipython-input-34-366d844bf56d>\"\u001b[1;36m, line \u001b[1;32m1\u001b[0m\n\u001b[1;33m    print(emp_1.raise.amnt)\u001b[0m\n\u001b[1;37m                    ^\u001b[0m\n\u001b[1;31mSyntaxError\u001b[0m\u001b[1;31m:\u001b[0m invalid syntax\n"
     ]
    }
   ],
   "source": [
    "print(emp_1.raise.amnt)\n",
    "print(emp_2.raise.amnt)"
   ]
  },
  {
   "cell_type": "code",
   "execution_count": 33,
   "metadata": {},
   "outputs": [
    {
     "name": "stdout",
     "output_type": "stream",
     "text": [
      "4000\n",
      "5000\n"
     ]
    }
   ],
   "source": [
    "print(emp_1.pay)\n",
    "print(emp_2.pay)"
   ]
  },
  {
   "cell_type": "code",
   "execution_count": 35,
   "metadata": {},
   "outputs": [],
   "source": [
    "class Employee:\n",
    "    \n",
    "    raise_amnt = 1.04\n",
    "    \n",
    "    def __init__(self, firstName, lastName, email, pay):\n",
    "        self.firstName = firstName\n",
    "        self.lastName = lastName\n",
    "        self.email = email\n",
    "        self.pay = pay\n",
    "    \n",
    "    def fullname(self):\n",
    "        return \"{} {}\".format(self.firstName, self.lastName)\n",
    "    \n",
    "    def apply_raise(self):\n",
    "        self.pay = int(self.pay * self.raise_amnt)\n",
    "        \n",
    "    @classmethod\n",
    "    def set_raise_amnt(cls, amount):\n",
    "        cls.raise_amnt = amount\n",
    "    "
   ]
  },
  {
   "cell_type": "code",
   "execution_count": 36,
   "metadata": {},
   "outputs": [],
   "source": [
    "emp_1 = Employee(\"Martin\", \"Lane\", \"martin.lane@clarusway.com\", 4000)\n",
    "emp_2 = Employee(\"Martin2\", \"Lane2\", \"martin.lane2@clarusway.com\", 5000)"
   ]
  },
  {
   "cell_type": "code",
   "execution_count": 37,
   "metadata": {},
   "outputs": [],
   "source": [
    "Employee.set_raise_amnt(1.10)"
   ]
  },
  {
   "cell_type": "code",
   "execution_count": 38,
   "metadata": {},
   "outputs": [
    {
     "name": "stdout",
     "output_type": "stream",
     "text": [
      "1.1\n",
      "1.1\n",
      "1.1\n"
     ]
    }
   ],
   "source": [
    "print(Employee.raise_amnt)\n",
    "print(emp_1.raise_amnt)\n",
    "print(emp_2.raise_amnt)"
   ]
  },
  {
   "cell_type": "code",
   "execution_count": 39,
   "metadata": {},
   "outputs": [],
   "source": [
    "Employee.raise_amnt = 2"
   ]
  },
  {
   "cell_type": "code",
   "execution_count": 40,
   "metadata": {},
   "outputs": [
    {
     "name": "stdout",
     "output_type": "stream",
     "text": [
      "2\n",
      "2\n",
      "2\n"
     ]
    }
   ],
   "source": [
    "print(Employee.raise_amnt)\n",
    "print(emp_1.raise_amnt)\n",
    "print(emp_2.raise_amnt)"
   ]
  },
  {
   "cell_type": "code",
   "execution_count": 48,
   "metadata": {},
   "outputs": [],
   "source": [
    "class Employee:\n",
    "    \n",
    "    raise_amnt = 1.04\n",
    "    \n",
    "    def __init__(self, firstName, lastName, email, pay):\n",
    "        self.firstName = firstName\n",
    "        self.lastName = lastName\n",
    "        self.email = email\n",
    "        self.pay = pay\n",
    "    \n",
    "    def fullname(self):\n",
    "        return \"{} {}\".format(self.firstName, self.lastName)\n",
    "    \n",
    "    def apply_raise(self):\n",
    "        self.pay = int(self.pay * self.raise_amnt)\n",
    "        \n",
    "    @classmethod\n",
    "    def set_raise_amnt(cls, amount):\n",
    "        cls.raise_amnt = amount\n",
    "    \n",
    "    @classmethod\n",
    "    def from_string(cls, emp_str):\n",
    "        firstName, lastName, email, pay = emp_str.split(\"-\")\n",
    "        return cls(firstName, lastName, email, pay)"
   ]
  },
  {
   "cell_type": "code",
   "execution_count": 49,
   "metadata": {},
   "outputs": [],
   "source": [
    "emp_str_1 = \"Martin-Lane-martin@clarusway.com-5000\""
   ]
  },
  {
   "cell_type": "code",
   "execution_count": 50,
   "metadata": {},
   "outputs": [],
   "source": [
    "new_emp_1 = Employee.from_string(emp_str_1)"
   ]
  },
  {
   "cell_type": "code",
   "execution_count": 51,
   "metadata": {},
   "outputs": [],
   "source": [
    "new_emp_1_1 = Employee(new_emp_1.firstName, new_emp_1.lastName, new_emp_1.email, new_emp_1.pay)"
   ]
  },
  {
   "cell_type": "code",
   "execution_count": 53,
   "metadata": {},
   "outputs": [
    {
     "name": "stdout",
     "output_type": "stream",
     "text": [
      "martin@clarusway.com\n"
     ]
    }
   ],
   "source": [
    "print(new_emp_1_1.email)"
   ]
  },
  {
   "cell_type": "code",
   "execution_count": 54,
   "metadata": {},
   "outputs": [],
   "source": [
    "class Employee:\n",
    "    \n",
    "    raise_amnt = 1.04\n",
    "    \n",
    "    def __init__(self, firstName, lastName, email, pay):\n",
    "        self.firstName = firstName\n",
    "        self.lastName = lastName\n",
    "        self.email = email\n",
    "        self.pay = pay\n",
    "    \n",
    "    def fullname(self):\n",
    "        return \"{} {}\".format(self.firstName, self.lastName)\n",
    "    \n",
    "    def apply_raise(self):\n",
    "        self.pay = int(self.pay * self.raise_amnt)\n",
    "        \n",
    "    @classmethod\n",
    "    def set_raise_amnt(cls, amount):\n",
    "        cls.raise_amnt = amount\n",
    "    \n",
    "    @classmethod\n",
    "    def from_string(cls, emp_str):\n",
    "        firstName, lastName, email, pay = emp_str.split(\"-\")\n",
    "        return cls(firstName, lastName, email, pay)\n",
    "    \n",
    "    @staticmethod\n",
    "    def is_workday(date):\n",
    "        if date.weekday() == 5 or date.weekday() == 6:\n",
    "            return False\n",
    "        return True\n",
    "    "
   ]
  },
  {
   "cell_type": "code",
   "execution_count": 55,
   "metadata": {},
   "outputs": [],
   "source": [
    "import datetime\n",
    "my_date = datetime.date(2020,8,6)"
   ]
  },
  {
   "cell_type": "code",
   "execution_count": 56,
   "metadata": {},
   "outputs": [
    {
     "name": "stdout",
     "output_type": "stream",
     "text": [
      "True\n"
     ]
    }
   ],
   "source": [
    "print(Employee.is_workday(my_date))"
   ]
  },
  {
   "cell_type": "code",
   "execution_count": null,
   "metadata": {},
   "outputs": [],
   "source": []
  }
 ],
 "metadata": {
  "kernelspec": {
   "display_name": "Python 3",
   "language": "python",
   "name": "python3"
  },
  "language_info": {
   "codemirror_mode": {
    "name": "ipython",
    "version": 3
   },
   "file_extension": ".py",
   "mimetype": "text/x-python",
   "name": "python",
   "nbconvert_exporter": "python",
   "pygments_lexer": "ipython3",
   "version": "3.7.6"
  }
 },
 "nbformat": 4,
 "nbformat_minor": 4
}
