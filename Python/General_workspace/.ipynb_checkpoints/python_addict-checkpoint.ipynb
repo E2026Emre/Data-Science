{
 "cells": [
  {
   "cell_type": "code",
   "execution_count": 10,
   "metadata": {},
   "outputs": [
    {
     "name": "stdout",
     "output_type": "stream",
     "text": [
      "[[1]]\n",
      "[[1]]\n",
      "[[2, 1]]\n",
      "[[2, 1], [1, 2]]\n",
      "[[2, 1], [1, 2]]\n",
      "[[3, 2, 1]]\n",
      "[[3, 2, 1], [2, 3, 1]]\n",
      "[[3, 2, 1], [2, 3, 1], [2, 1, 3]]\n",
      "[[3, 2, 1], [2, 3, 1], [2, 1, 3], [3, 1, 2]]\n",
      "[[3, 2, 1], [2, 3, 1], [2, 1, 3], [3, 1, 2], [1, 3, 2]]\n",
      "[[3, 2, 1], [2, 3, 1], [2, 1, 3], [3, 1, 2], [1, 3, 2], [1, 2, 3]]\n",
      "[[3, 2, 1], [2, 3, 1], [2, 1, 3], [3, 1, 2], [1, 3, 2], [1, 2, 3]]\n",
      "[[3, 2, 1], [2, 3, 1], [2, 1, 3], [3, 1, 2], [1, 3, 2], [1, 2, 3]]\n"
     ]
    }
   ],
   "source": [
    "xx = [1, 2, 3]\n",
    "result = [[]]\n",
    "for j in xx:\n",
    "    my_perms = []\n",
    "    for p in result:\n",
    "        for i in range(len(p)+1):\n",
    "            my_perms.append(p[:i] + [j] + p[i:])\n",
    "            result = my_perms\n",
    "print(result)"
   ]
  },
  {
   "cell_type": "code",
   "execution_count": 17,
   "metadata": {},
   "outputs": [
    {
     "name": "stdout",
     "output_type": "stream",
     "text": [
      "[]\n",
      "[1, 2]\n",
      "[1, 2]\n",
      "[3, 1, 2]\n"
     ]
    }
   ],
   "source": [
    "p = [1,2]\n",
    "print(p[:0])\n",
    "print(p[0:])\n",
    "print(p[:0] + p[0:])\n",
    "print(p[:0] + [3] + p[0:])"
   ]
  },
  {
   "cell_type": "code",
   "execution_count": 18,
   "metadata": {},
   "outputs": [
    {
     "name": "stdout",
     "output_type": "stream",
     "text": [
      "5\n",
      "-9\n",
      "-100\n"
     ]
    }
   ],
   "source": [
    "def my_min(*numbers):\n",
    "    min = numbers[0]\n",
    "    for i in numbers:\n",
    "        for j in numbers:\n",
    "            if i < j and i < min:\n",
    "                min = i\n",
    "    return min\n",
    "print(my_min(5,6,7))\n",
    "print(my_min(3,8,-9,0,12,1.2))\n",
    "print(my_min(-100))"
   ]
  },
  {
   "cell_type": "code",
   "execution_count": 2,
   "metadata": {},
   "outputs": [
    {
     "name": "stdout",
     "output_type": "stream",
     "text": [
      "12\n",
      "16\n",
      "60\n"
     ]
    }
   ],
   "source": [
    "def my_sum(*numbers):\n",
    "    total = 0\n",
    "    for i in numbers:\n",
    "        total += i\n",
    "    return total\n",
    "print(my_sum(9, 1, 3, 0, -1))\n",
    "print(my_sum(5, 7, 4))\n",
    "print(my_sum(10, -20, 30, 40))"
   ]
  },
  {
   "cell_type": "code",
   "execution_count": 5,
   "metadata": {},
   "outputs": [
    {
     "name": "stdout",
     "output_type": "stream",
     "text": [
      "104\n",
      "96\n",
      "400\n",
      "25.0\n"
     ]
    }
   ],
   "source": [
    "class Calculator:\n",
    "    def __init__(self,num1,num2):\n",
    "        self.num1=num1\n",
    "        self.num2=num2\n",
    "    def add(self):\n",
    "        return self.num1+self.num2\n",
    "    def subtract(self):\n",
    "        return self.num1-self.num2\n",
    "    def multiply(self):\n",
    "        return self.num1*self.num2\n",
    "    def divide(self):\n",
    "        return self.num1/self.num2\n",
    "cal1 = Calculator(10,5)#example\n",
    "cal1.divide()#example\n",
    "cal1.add()\n",
    "cal2 = Calculator(100, 4)\n",
    "print(cal2.add())\n",
    "print(cal2.subtract())\n",
    "print(cal2.multiply())\n",
    "print(cal2.divide())"
   ]
  },
  {
   "cell_type": "code",
   "execution_count": 2,
   "metadata": {},
   "outputs": [
    {
     "name": "stdout",
     "output_type": "stream",
     "text": [
      "120\n",
      "24\n",
      "6\n"
     ]
    }
   ],
   "source": [
    "def my_fact(n):\n",
    "    fact = 1\n",
    "    for i in range(1, n+1):\n",
    "        fact *= i\n",
    "    return fact\n",
    "print(my_fact(5))\n",
    "print(my_fact(4))\n",
    "print(my_fact(3))"
   ]
  },
  {
   "cell_type": "code",
   "execution_count": 5,
   "metadata": {},
   "outputs": [
    {
     "name": "stdout",
     "output_type": "stream",
     "text": [
      "3\n",
      "1\n",
      "3\n"
     ]
    }
   ],
   "source": [
    "def most_freq(given_list):\n",
    "    return max(given_list, key=given_list.count)\n",
    "print(most_freq([1,2,3,3,3,3,4,4,5,5])) \n",
    "print(most_freq([1,1,2,3,3])) \n",
    "print(most_freq([3,1,2,1,3])) "
   ]
  },
  {
   "cell_type": "code",
   "execution_count": null,
   "metadata": {},
   "outputs": [],
   "source": [
    "def most_freq(given_list):\n",
    "    \n",
    "    \n",
    "    return max(given_list, key=given_list.count)\n",
    "print(most_freq([1,2,3,3,3,3,4,4,5,5])) \n",
    "print(most_freq([1,1,2,3,3])) \n",
    "print(most_freq([3,1,2,1,3]))"
   ]
  },
  {
   "cell_type": "code",
   "execution_count": 6,
   "metadata": {},
   "outputs": [
    {
     "name": "stdout",
     "output_type": "stream",
     "text": [
      "1a W 2 R 3g\n",
      "123chris Alan\n",
      "123chris Hasan Alan \n"
     ]
    }
   ],
   "source": [
    "def solve(s):\n",
    "    c = s.split(\" \")\n",
    "    d = []\n",
    "    for i in c:\n",
    "        d.append(i.capitalize())\n",
    "    #d = d[:] + \" \" + d[i]\n",
    "    d = \" \".join(d)\n",
    "    return d\n",
    "print(solve(\"1a w 2 r 3g\"))\n",
    "print(solve(\"123Chris alan\"))\n",
    "print(solve(\"123Chris hasan alan \"))"
   ]
  },
  {
   "cell_type": "code",
   "execution_count": 7,
   "metadata": {},
   "outputs": [
    {
     "name": "stdout",
     "output_type": "stream",
     "text": [
      "1a W 2 R 3g\n",
      "123chris Alan\n",
      "123chris Hasan Alan \n"
     ]
    }
   ],
   "source": [
    "def solve(s):\n",
    "    for x in s.split():\n",
    "        s = s.replace(x, x.capitalize())\n",
    "    return s\n",
    "print(solve(\"1a w 2 r 3g\"))\n",
    "print(solve(\"123Chris alan\"))\n",
    "print(solve(\"123Chris hasan alan \"))"
   ]
  },
  {
   "cell_type": "code",
   "execution_count": 11,
   "metadata": {},
   "outputs": [],
   "source": [
    "import string\n",
    "def print_rangoli(size):\n",
    "    x=string.ascii_lowercase[:size]\n",
    "    width=size+(size-1)\n",
    "    width+=width-1\n",
    "    for ii in range(1,size):\n",
    "        print(\"-\".join(x[-1:-ii:-1]+x[-ii:]).center(width, \"-\"))\n",
    "    for i in range(size):\n",
    "        print(\"-\".join(x[size-1:i:-1]+x[i:]).center(width, \"-\"))\n",
    "print_rangoli(0)"
   ]
  },
  {
   "cell_type": "code",
   "execution_count": 13,
   "metadata": {},
   "outputs": [
    {
     "name": "stdout",
     "output_type": "stream",
     "text": [
      "2 2\n",
      "50 70\n",
      "60 80\n",
      "55.0\n",
      "75.0\n"
     ]
    }
   ],
   "source": [
    "_, X = map(int, input().split())\n",
    "grades = []\n",
    "for i in range(X):\n",
    "    grades.append(list(map(float, input().split())))\n",
    "for i in zip(*grades):\n",
    "    print(sum(i)/X)"
   ]
  },
  {
   "cell_type": "code",
   "execution_count": 25,
   "metadata": {},
   "outputs": [
    {
     "name": "stdout",
     "output_type": "stream",
     "text": [
      "[[3, 4, 7, 9], [1, 2, 3, 4, 5, 6, 7, 9]]\n"
     ]
    }
   ],
   "source": [
    "def intersection_union(lst1, lst2):\n",
    "\tlst1 = set(lst1)\n",
    "\tlst2 = set(lst2)\n",
    "\tinter = lst1 & lst2\n",
    "\tunion = lst1 | lst2\n",
    "\tresult = []\n",
    "\tresult.append(sorted(inter))\n",
    "\tresult.append(sorted(union))\n",
    "\treturn(result)\n",
    "lst1 = {1,3,5,7,9,5,4}\n",
    "lst2 = {2,4,6,7,3,9}\n",
    "print(intersection_union(lst1, lst2))"
   ]
  },
  {
   "cell_type": "code",
   "execution_count": 26,
   "metadata": {},
   "outputs": [
    {
     "name": "stdout",
     "output_type": "stream",
     "text": [
      "1 2 3\n"
     ]
    }
   ],
   "source": [
    "n = [1,2,3]\n",
    "print(*n)"
   ]
  },
  {
   "cell_type": "code",
   "execution_count": 1,
   "metadata": {},
   "outputs": [
    {
     "name": "stdout",
     "output_type": "stream",
     "text": [
      "y0ws2r0lcaca"
     ]
    }
   ],
   "source": [
    "def encrypt(word):\n",
    "    dict={\"a\":0,\"e\":1 ,\"i\":2, \"o\":2, \"u\":2}\n",
    "    print(*[dict[x] if x in dict else x for x in word[::-1]],end=\"aca\",sep=\"\")\n",
    "encrypt(\"clarusway\")"
   ]
  },
  {
   "cell_type": "code",
   "execution_count": 4,
   "metadata": {},
   "outputs": [
    {
     "name": "stdout",
     "output_type": "stream",
     "text": [
      "abcd\n"
     ]
    }
   ],
   "source": [
    "print(*[\"a\",\"b\",\"c\",\"d\"], sep=\"\")"
   ]
  },
  {
   "cell_type": "code",
   "execution_count": 6,
   "metadata": {},
   "outputs": [
    {
     "name": "stdout",
     "output_type": "stream",
     "text": [
      "Total student number: 3\n",
      "Name: a\n",
      "Score: 30\n",
      "Name: b\n",
      "Score: 20\n",
      "Name: c\n",
      "Score: 10\n",
      "20.0\n",
      "b\n"
     ]
    },
    {
     "data": {
      "text/plain": [
       "[None]"
      ]
     },
     "execution_count": 6,
     "metadata": {},
     "output_type": "execute_result"
    }
   ],
   "source": [
    "d={} \n",
    "for i in range(int(input('Total student number: '))): \n",
    "    n=input('Name: ') \n",
    "    s=float(input('Score: ')) \n",
    "    d[n]=s \n",
    "s=sorted(list(set(d.values())))[1]\n",
    "print(s)\n",
    "s_l=[k for k,v in d.items() if v==s]\n",
    "s_l.sort() \n",
    "[print(n) for n in s_l]"
   ]
  },
  {
   "cell_type": "code",
   "execution_count": 1,
   "metadata": {},
   "outputs": [
    {
     "data": {
      "text/plain": [
       "['2344b', '932c', '832u32']"
      ]
     },
     "execution_count": 1,
     "metadata": {},
     "output_type": "execute_result"
    }
   ],
   "source": [
    "def sort_by_letter(lst):\n",
    "\treturn sorted(lst, key=lambda x: \"\".join([i for i in x if i.isalpha()]))\n",
    "sort_by_letter([\"932c\", \"832u32\", \"2344b\"])"
   ]
  },
  {
   "cell_type": "code",
   "execution_count": 2,
   "metadata": {},
   "outputs": [
    {
     "data": {
      "text/plain": [
       "['2344b', '932c', '832u32']"
      ]
     },
     "execution_count": 2,
     "metadata": {},
     "output_type": "execute_result"
    }
   ],
   "source": [
    "def sort_by_letter(lst):\n",
    "\treturn sorted(lst, key=lambda x: [i for i in x if i.isalpha()])\n",
    "sort_by_letter([\"932c\", \"832u32\", \"2344b\"])"
   ]
  },
  {
   "cell_type": "code",
   "execution_count": 7,
   "metadata": {},
   "outputs": [
    {
     "name": "stdout",
     "output_type": "stream",
     "text": [
      "['e', 'r', 'h']\n"
     ]
    }
   ],
   "source": [
    "key=lambda x: [i for i in x if i.isalpha()]\n",
    "print(key(\"er09h\"))"
   ]
  },
  {
   "cell_type": "code",
   "execution_count": null,
   "metadata": {},
   "outputs": [],
   "source": [
    "def tournament_scores(y):\n",
    "    r = {}\n",
    "    for g in y:\n",
    "        f, z, _, l, t = g.split()\n",
    "        z, l = map(int, (z, l))\n",
    "        for i, z, l in ((f, z, l),(t, l, z)):\n",
    "            p = 3 if z > l else 1 if z == l else 0\n",
    "            r[i] = (r[i][0]+p, r[i][1]+z, r[i][2]+z-l) if i in r else (p, z, z-l)\n",
    "    return sorted([[k, v[0], v[1], v[2]] for k,v in r.items()], key=lambda x: x[1:], reverse=1)"
   ]
  },
  {
   "cell_type": "code",
   "execution_count": 13,
   "metadata": {},
   "outputs": [
    {
     "data": {
      "text/plain": [
       "False"
      ]
     },
     "execution_count": 13,
     "metadata": {},
     "output_type": "execute_result"
    }
   ],
   "source": [
    "a = list(b)\n",
    "b == a"
   ]
  },
  {
   "cell_type": "code",
   "execution_count": 16,
   "metadata": {},
   "outputs": [
    {
     "name": "stdout",
     "output_type": "stream",
     "text": [
      "['1', '2', '4', '6', '8']\n",
      "12468\n"
     ]
    }
   ],
   "source": [
    "x= \"16428\"\n",
    "print(sorted(x))\n",
    "print(\"\".join(sorted(x)))"
   ]
  },
  {
   "cell_type": "code",
   "execution_count": 20,
   "metadata": {},
   "outputs": [
    {
     "name": "stdout",
     "output_type": "stream",
     "text": [
      "1\n"
     ]
    }
   ],
   "source": [
    "def ping(i):\n",
    "    if i>0:\n",
    "        return pong(i-1)\n",
    "    else:\n",
    "        return \"0\"\n",
    "def pong(i):\n",
    "    if i>0:\n",
    "        return ping(i-1)\n",
    "    else:\n",
    "        return \"1\"\n",
    "print(ping(3))"
   ]
  },
  {
   "cell_type": "code",
   "execution_count": 21,
   "metadata": {},
   "outputs": [
    {
     "data": {
      "text/plain": [
       "2.0"
      ]
     },
     "execution_count": 21,
     "metadata": {},
     "output_type": "execute_result"
    }
   ],
   "source": [
    "class Calculator:\n",
    "    def __init__(self,num1,num2):\n",
    "        self.num1=num1\n",
    "        self.num2=num2\n",
    "    def add(self):\n",
    "        return self.num1+self.num2\n",
    "    def subtract(self):\n",
    "        return self.num1-self.num2\n",
    "    def multiply(self):\n",
    "        return self.num1*self.num2\n",
    "    def divide(self):\n",
    "        return self.num1/self.num2\n",
    "calculator=Calculator(10,5)#example\n",
    "calculator.divide()#example"
   ]
  },
  {
   "cell_type": "code",
   "execution_count": 23,
   "metadata": {},
   "outputs": [
    {
     "name": "stdout",
     "output_type": "stream",
     "text": [
      "Joel is older than me.\n",
      "Samuel is younger than me.\n",
      "Lily is the same age as me.\n"
     ]
    }
   ],
   "source": [
    "class Person:\n",
    "\tdef __init__(self, name, age):\n",
    "\t\tself.name = name\n",
    "\t\tself.age = age\n",
    "\tdef compare_age(self, other):\n",
    "\t\tif self.age<other.age:\n",
    "\t\t\treturn (other.name + \" is older than me.\")\n",
    "\t\telif self.age>other.age:\n",
    "\t\t\treturn (other.name + \" is younger than me.\")\n",
    "\t\telse:\n",
    "\t\t\treturn (other.name + \" is the same age as me.\")\n",
    "p1 = Person(\"Samuel\", 24)\n",
    "p2 = Person(\"Joel\", 36)\n",
    "p3 = Person(\"Lily\", 24)\n",
    "\n",
    "print(p1.compare_age(p2))\n",
    "print(p2.compare_age(p1))\n",
    "print(p1.compare_age(p3))"
   ]
  },
  {
   "cell_type": "code",
   "execution_count": 24,
   "metadata": {},
   "outputs": [],
   "source": [
    "class Student(Person):\n",
    "    def __init__(self, firstName, lastName, idNumber, scores): #   Class Constructor\n",
    "        Person.__init__(self, firstName, lastName, idNumber)\n",
    "        self.scores=scores    \n",
    "    def calculate(self):   \n",
    "        result=sum(self.scores)/len(self.scores)\n",
    "        if 90<=result<=100: \n",
    "            return \"O\"\n",
    "        elif 80<=result<90:\n",
    "            return \"E\"\n",
    "        elif 70<=result<80:\n",
    "            return \"A\"\n",
    "        elif 55<=result<70:\n",
    "            return \"P\"\n",
    "        elif 40<=result<55:\n",
    "            return \"D\"\n",
    "        elif result<40:\n",
    "            return \"T\""
   ]
  },
  {
   "cell_type": "code",
   "execution_count": 25,
   "metadata": {},
   "outputs": [
    {
     "name": "stdout",
     "output_type": "stream",
     "text": [
      "1\n",
      "2\n",
      "3\n"
     ]
    }
   ],
   "source": [
    "class User:\n",
    "    user_count=0\n",
    "    def __init__(self,username):\n",
    "        self.username=username\n",
    "        User.user_count+=1\n",
    "\n",
    "u1 = User(\"johnsmith10\")\n",
    "print(User.user_count)\n",
    "\n",
    "u2 = User(\"marysue1989\")\n",
    "print(User.user_count)\n",
    "\n",
    "u3 = User(\"milan_rodrick\")\n",
    "print(User.user_count)"
   ]
  },
  {
   "cell_type": "code",
   "execution_count": 26,
   "metadata": {},
   "outputs": [
    {
     "name": "stdout",
     "output_type": "stream",
     "text": [
      "milan_rodrick\n"
     ]
    }
   ],
   "source": [
    "print(u3.username)"
   ]
  },
  {
   "cell_type": "code",
   "execution_count": 30,
   "metadata": {},
   "outputs": [
    {
     "name": "stdout",
     "output_type": "stream",
     "text": [
      "    1     2     3     4     5     6     7     8     9    10 \n",
      "    2     4     6     8    10    12    14    16    18    20 \n",
      "    3     6     9    12    15    18    21    24    27    30 \n",
      "    4     8    12    16    20    24    28    32    36    40 \n",
      "    5    10    15    20    25    30    35    40    45    50 \n",
      "    6    12    18    24    30    36    42    48    54    60 \n",
      "    7    14    21    28    35    42    49    56    63    70 \n",
      "    8    16    24    32    40    48    56    64    72    80 \n",
      "    9    18    27    36    45    54    63    72    81    90 \n",
      "   10    20    30    40    50    60    70    80    90   100 \n"
     ]
    }
   ],
   "source": [
    "for i in range(1,11):\n",
    "    \n",
    "    for j in range(1,11):        \n",
    "        \n",
    "        if j == 10:\n",
    "            \n",
    "            print('{:5d} '.format(j*i))\n",
    "        else:\n",
    "            print('{:5d} '.format(j*i), end = \"\" )"
   ]
  },
  {
   "cell_type": "code",
   "execution_count": 29,
   "metadata": {},
   "outputs": [
    {
     "name": "stdout",
     "output_type": "stream",
     "text": [
      "     1     2     3     4     5     6     7     8     9    10\n",
      "     2     4     6     8    10    12    14    16    18    20\n",
      "     3     6     9    12    15    18    21    24    27    30\n",
      "     4     8    12    16    20    24    28    32    36    40\n",
      "     5    10    15    20    25    30    35    40    45    50\n",
      "     6    12    18    24    30    36    42    48    54    60\n",
      "     7    14    21    28    35    42    49    56    63    70\n",
      "     8    16    24    32    40    48    56    64    72    80\n",
      "     9    18    27    36    45    54    63    72    81    90\n",
      "    10    20    30    40    50    60    70    80    90   100\n"
     ]
    }
   ],
   "source": [
    "for i in range(1, 11):\n",
    "    for j in range(1, 11):\n",
    "        print((\"{:6d}\".format(i * j)), end='')\n",
    "    print()"
   ]
  },
  {
   "cell_type": "code",
   "execution_count": 31,
   "metadata": {},
   "outputs": [
    {
     "name": "stdout",
     "output_type": "stream",
     "text": [
      "['bacon', 'parmesan', 'ham']\n",
      "['spinach', 'olives', 'mushroom']\n",
      "1\n",
      "2\n"
     ]
    }
   ],
   "source": [
    "class Pizza:\n",
    "\tcount=0\n",
    "\tdef __init__(self, ingredients):\n",
    "\t\tself.ingredients=ingredients\n",
    "\t\tPizza.count+=1\n",
    "\t\tself.order_number=Pizza.count\n",
    "\t@classmethod\n",
    "\tdef garden_feast(cls):\n",
    "\t\tingredients=[\"spinach\", \"olives\", \"mushroom\"]\n",
    "\t\treturn cls(ingredients)\n",
    "\t@classmethod\n",
    "\tdef meat_festival(cls):\n",
    "\t\tingredients=[\"beef\", \"meatball\", \"bacon\"]\n",
    "\t\treturn cls(ingredients)\n",
    "\t@classmethod\n",
    "\tdef hawaiian(cls):\n",
    "\t\tingredients=[\"ham\", \"pineapple\"]\n",
    "\t\treturn cls(ingredients)\n",
    "p1 = Pizza([\"bacon\", \"parmesan\", \"ham\"])\n",
    "p2 = Pizza.garden_feast()\n",
    "print(p1.ingredients)\n",
    "print(p2.ingredients)\n",
    "print(p1.order_number)\n",
    "print(p2.order_number)"
   ]
  },
  {
   "cell_type": "code",
   "execution_count": 34,
   "metadata": {},
   "outputs": [
    {
     "name": "stdout",
     "output_type": "stream",
     "text": [
      "['bacon', 'parmesan', 'ham']\n",
      "['spinach', ' olives', ' mushroom']\n",
      "1\n",
      "2\n"
     ]
    }
   ],
   "source": [
    "class Pizza:\n",
    "    order_number=0\n",
    "    def __init__(self,ingredients):\n",
    "        self.ingredients=ingredients\n",
    "        Pizza.order_number +=1\n",
    "        self.order_number=Pizza.order_number\n",
    "    @staticmethod \n",
    "    def hawaiian():\n",
    "        return Pizza(\"ham, pineapple\".split(\",\"))\n",
    "    @staticmethod \n",
    "    def meat_festival():\n",
    "        return Pizza(\"beef, meatball, bacon\".split(\",\"))    \n",
    "    @staticmethod   \n",
    "    def garden_feast():\n",
    "        return Pizza(\"spinach, olives, mushroom\".split(\",\"))\n",
    "p1 = Pizza([\"bacon\", \"parmesan\", \"ham\"])\n",
    "p2 = Pizza.garden_feast()\n",
    "print(p1.ingredients)\n",
    "print(p2.ingredients)\n",
    "print(p1.order_number)\n",
    "print(p2.order_number)    "
   ]
  },
  {
   "cell_type": "code",
   "execution_count": 38,
   "metadata": {},
   "outputs": [
    {
     "data": {
      "text/plain": [
       "'game restarted'"
      ]
     },
     "execution_count": 38,
     "metadata": {},
     "output_type": "execute_result"
    }
   ],
   "source": [
    "class Shiritori:\n",
    "    def __init__(self):\n",
    "        self.game_over = False\n",
    "        self.words = []\n",
    "    def play(self, word):\n",
    "        if len(self.words) == 0 or self.words[-1][-1] == word[0]  and word not in self.words :\n",
    "            self.words.append(word)\n",
    "            return self.words\n",
    "        self.game_over = True\n",
    "        return 'game over'\n",
    "    def restart(self):\n",
    "        self.words = []\n",
    "        self.game_over = False\n",
    "        return 'game restarted'\n",
    "my_shiritori = Shiritori()\n",
    "my_shiritori.restart()"
   ]
  },
  {
   "cell_type": "code",
   "execution_count": null,
   "metadata": {},
   "outputs": [],
   "source": [
    "def id_mtrx(n):\n",
    "    if type(n) == int:\n",
    "        a=[0 for i in range(abs(n)) ]\n",
    "        b=[]\n",
    "        for i in range(abs(n)):\n",
    "            if n > 0:\n",
    "                c=a.copy()\n",
    "                c[i] = 1\n",
    "                b.append(c)\n",
    "            else:\n",
    "                c=a.copy()\n",
    "                c[-i-1] = 1\n",
    "                b.append(c)\n",
    "        return b\n",
    "    else :\n",
    "        return \"Error\""
   ]
  },
  {
   "cell_type": "code",
   "execution_count": 4,
   "metadata": {},
   "outputs": [
    {
     "name": "stdout",
     "output_type": "stream",
     "text": [
      "{'one': [1, 2, 3, 4, 5], 'two': [10, 4, 9, 14, 15]}\n"
     ]
    }
   ],
   "source": [
    "df = {\"one\":[1,2,3,4,5]}\n",
    "df[\"two\"] = [x*10 if x<2 else x**2 if x<4 else x+10 for x in df[\"one\"]]\n",
    "print(df)"
   ]
  },
  {
   "cell_type": "code",
   "execution_count": 6,
   "metadata": {},
   "outputs": [
    {
     "name": "stdout",
     "output_type": "stream",
     "text": [
      "how many column number do you want to design the multiplication table : 5\n",
      "1  x  1 =   1\t2  x  1 =   2\t3  x  1 =   3\t4  x  1 =   4\t5  x  1 =   5\t\n",
      "1  x  2 =   2\t2  x  2 =   4\t3  x  2 =   6\t4  x  2 =   8\t5  x  2 =  10\t\n",
      "1  x  3 =   3\t2  x  3 =   6\t3  x  3 =   9\t4  x  3 =  12\t5  x  3 =  15\t\n",
      "1  x  4 =   4\t2  x  4 =   8\t3  x  4 =  12\t4  x  4 =  16\t5  x  4 =  20\t\n",
      "1  x  5 =   5\t2  x  5 =  10\t3  x  5 =  15\t4  x  5 =  20\t5  x  5 =  25\t\n",
      "1  x  6 =   6\t2  x  6 =  12\t3  x  6 =  18\t4  x  6 =  24\t5  x  6 =  30\t\n",
      "1  x  7 =   7\t2  x  7 =  14\t3  x  7 =  21\t4  x  7 =  28\t5  x  7 =  35\t\n",
      "1  x  8 =   8\t2  x  8 =  16\t3  x  8 =  24\t4  x  8 =  32\t5  x  8 =  40\t\n",
      "1  x  9 =   9\t2  x  9 =  18\t3  x  9 =  27\t4  x  9 =  36\t5  x  9 =  45\t\n",
      "1  x 10 =  10\t2  x 10 =  20\t3  x 10 =  30\t4  x 10 =  40\t5  x 10 =  50\t\n",
      "\n",
      "6  x  1 =   6\t7  x  1 =   7\t8  x  1 =   8\t9  x  1 =   9\t10 x  1 =  10\t\n",
      "6  x  2 =  12\t7  x  2 =  14\t8  x  2 =  16\t9  x  2 =  18\t10 x  2 =  20\t\n",
      "6  x  3 =  18\t7  x  3 =  21\t8  x  3 =  24\t9  x  3 =  27\t10 x  3 =  30\t\n",
      "6  x  4 =  24\t7  x  4 =  28\t8  x  4 =  32\t9  x  4 =  36\t10 x  4 =  40\t\n",
      "6  x  5 =  30\t7  x  5 =  35\t8  x  5 =  40\t9  x  5 =  45\t10 x  5 =  50\t\n",
      "6  x  6 =  36\t7  x  6 =  42\t8  x  6 =  48\t9  x  6 =  54\t10 x  6 =  60\t\n",
      "6  x  7 =  42\t7  x  7 =  49\t8  x  7 =  56\t9  x  7 =  63\t10 x  7 =  70\t\n",
      "6  x  8 =  48\t7  x  8 =  56\t8  x  8 =  64\t9  x  8 =  72\t10 x  8 =  80\t\n",
      "6  x  9 =  54\t7  x  9 =  63\t8  x  9 =  72\t9  x  9 =  81\t10 x  9 =  90\t\n",
      "6  x 10 =  60\t7  x 10 =  70\t8  x 10 =  80\t9  x 10 =  90\t10 x 10 = 100\t\n",
      "\n"
     ]
    }
   ],
   "source": [
    "n = int(input(\"how many column number do you want to design the multiplication table : \"))\n",
    "x = (10 // n) + (1 if 10 % n != 0 else 0) \n",
    "for a in range(x):\n",
    "    for i in range(1, 11):\n",
    "        if ((a + 1) * n) + 1 < 11:\n",
    "            for j in range(((a * n) + 1), ((a + 1) * n) + 1):\n",
    "                print(f\"{j:<2} x {i:>2} = {(j*i):>3}\", end = \"\\t\")\n",
    "        else:\n",
    "            for j in range(((a * n) + 1), 11):\n",
    "                print(f\"{j:<2} x {i:>2} = {(j*i):>3}\", end = \"\\t\")\n",
    "        print()\n",
    "    print()\n"
   ]
  },
  {
   "cell_type": "code",
   "execution_count": 2,
   "metadata": {},
   "outputs": [
    {
     "name": "stdout",
     "output_type": "stream",
     "text": [
      "4\n",
      "1  x  1 =   1     2  x  1 =   2     3  x  1 =   3     4  x  1 =   4     \n",
      "1  x  2 =   2     2  x  2 =   4     3  x  2 =   6     4  x  2 =   8     \n",
      "1  x  3 =   3     2  x  3 =   6     3  x  3 =   9     4  x  3 =  12     \n",
      "1  x  4 =   4     2  x  4 =   8     3  x  4 =  12     4  x  4 =  16     \n",
      "1  x  5 =   5     2  x  5 =  10     3  x  5 =  15     4  x  5 =  20     \n",
      "1  x  6 =   6     2  x  6 =  12     3  x  6 =  18     4  x  6 =  24     \n",
      "1  x  7 =   7     2  x  7 =  14     3  x  7 =  21     4  x  7 =  28     \n",
      "1  x  8 =   8     2  x  8 =  16     3  x  8 =  24     4  x  8 =  32     \n",
      "1  x  9 =   9     2  x  9 =  18     3  x  9 =  27     4  x  9 =  36     \n",
      "1  x 10 =  10     2  x 10 =  20     3  x 10 =  30     4  x 10 =  40     \n",
      "\n",
      "5  x  1 =   5     6  x  1 =   6     7  x  1 =   7     8  x  1 =   8     \n",
      "5  x  2 =  10     6  x  2 =  12     7  x  2 =  14     8  x  2 =  16     \n",
      "5  x  3 =  15     6  x  3 =  18     7  x  3 =  21     8  x  3 =  24     \n",
      "5  x  4 =  20     6  x  4 =  24     7  x  4 =  28     8  x  4 =  32     \n",
      "5  x  5 =  25     6  x  5 =  30     7  x  5 =  35     8  x  5 =  40     \n",
      "5  x  6 =  30     6  x  6 =  36     7  x  6 =  42     8  x  6 =  48     \n",
      "5  x  7 =  35     6  x  7 =  42     7  x  7 =  49     8  x  7 =  56     \n",
      "5  x  8 =  40     6  x  8 =  48     7  x  8 =  56     8  x  8 =  64     \n",
      "5  x  9 =  45     6  x  9 =  54     7  x  9 =  63     8  x  9 =  72     \n",
      "5  x 10 =  50     6  x 10 =  60     7  x 10 =  70     8  x 10 =  80     \n",
      "\n",
      "9  x  1 =   9     10 x  1 =  10     \n",
      "9  x  2 =  18     10 x  2 =  20     \n",
      "9  x  3 =  27     10 x  3 =  30     \n",
      "9  x  4 =  36     10 x  4 =  40     \n",
      "9  x  5 =  45     10 x  5 =  50     \n",
      "9  x  6 =  54     10 x  6 =  60     \n",
      "9  x  7 =  63     10 x  7 =  70     \n",
      "9  x  8 =  72     10 x  8 =  80     \n",
      "9  x  9 =  81     10 x  9 =  90     \n",
      "9  x 10 =  90     10 x 10 = 100     \n",
      "\n"
     ]
    }
   ],
   "source": [
    "n = int(input())\n",
    "for k in range(1,11,n):\n",
    "    for i in range(1,11):\n",
    "        for j in range(k, k+n if k+n < 11 else 11):\n",
    "            print(f'{str(j).ljust(2)} x {str(i).rjust(2)} = {str(i*j).rjust(3)}', end='     ')\n",
    "        else: print()\n",
    "    else: print()"
   ]
  },
  {
   "cell_type": "code",
   "execution_count": 8,
   "metadata": {
    "scrolled": true
   },
   "outputs": [
    {
     "name": "stdout",
     "output_type": "stream",
     "text": [
      "[1, 6]\n"
     ]
    }
   ],
   "source": [
    "print(list(range(1,11,5)))"
   ]
  },
  {
   "cell_type": "code",
   "execution_count": 12,
   "metadata": {},
   "outputs": [],
   "source": [
    "import numpy as np"
   ]
  },
  {
   "cell_type": "code",
   "execution_count": 19,
   "metadata": {},
   "outputs": [
    {
     "data": {
      "text/plain": [
       "{'student-1': {'lesson-1': 99,\n",
       "  'lesson-2': 90,\n",
       "  'lesson-3': 83,\n",
       "  'lesson-4': 35,\n",
       "  'lesson-5': 89},\n",
       " 'student-2': {'lesson-1': 91,\n",
       "  'lesson-2': 64,\n",
       "  'lesson-3': 41,\n",
       "  'lesson-4': 39,\n",
       "  'lesson-5': 50},\n",
       " 'student-3': {'lesson-1': 71,\n",
       "  'lesson-2': 85,\n",
       "  'lesson-3': 54,\n",
       "  'lesson-4': 71,\n",
       "  'lesson-5': 88},\n",
       " 'student-4': {'lesson-1': 67,\n",
       "  'lesson-2': 83,\n",
       "  'lesson-3': 84,\n",
       "  'lesson-4': 64,\n",
       "  'lesson-5': 55},\n",
       " 'student-5': {'lesson-1': 85,\n",
       "  'lesson-2': 91,\n",
       "  'lesson-3': 83,\n",
       "  'lesson-4': 74,\n",
       "  'lesson-5': 60}}"
      ]
     },
     "execution_count": 19,
     "metadata": {},
     "output_type": "execute_result"
    }
   ],
   "source": [
    "dict = {}\n",
    "for i in range(1,6):\n",
    "    dict[f\"student-{i}\"] = {f\"lesson-{j}\" : np.random.randint(35,100) for j in range(1,6)}\n",
    "dict"
   ]
  }
 ],
 "metadata": {
  "kernelspec": {
   "display_name": "Python 3",
   "language": "python",
   "name": "python3"
  },
  "language_info": {
   "codemirror_mode": {
    "name": "ipython",
    "version": 3
   },
   "file_extension": ".py",
   "mimetype": "text/x-python",
   "name": "python",
   "nbconvert_exporter": "python",
   "pygments_lexer": "ipython3",
   "version": "3.7.6"
  }
 },
 "nbformat": 4,
 "nbformat_minor": 4
}
