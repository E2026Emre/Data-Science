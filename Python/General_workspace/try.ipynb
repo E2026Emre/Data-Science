{
 "cells": [
  {
   "cell_type": "code",
   "execution_count": 7,
   "metadata": {},
   "outputs": [
    {
     "name": "stdout",
     "output_type": "stream",
     "text": [
      "[120, 60, 40, 30, 24]\n"
     ]
    }
   ],
   "source": [
    "def new_array(mlist):\n",
    "    new_array = []\n",
    "    for i in mlist:\n",
    "        count = 1\n",
    "        for j in mlist:\n",
    "            count *= j\n",
    "        count = count/i\n",
    "        new_array.append(int(count))\n",
    "    print(new_array)\n",
    "mlist=[1,2,3,4,5]\n",
    "new_array(mlist)"
   ]
  },
  {
   "cell_type": "code",
   "execution_count": 9,
   "metadata": {},
   "outputs": [
    {
     "name": "stdout",
     "output_type": "stream",
     "text": [
      "[120, 60, 40, 30, 24]\n"
     ]
    }
   ],
   "source": [
    "def new_array(mlist):\n",
    "    new_array = []\n",
    "    for i in mlist:\n",
    "        count = 1\n",
    "        for j in mlist:\n",
    "            if j != i:\n",
    "                count *= j\n",
    "        new_array.append(count)\n",
    "    print(new_array)\n",
    "mlist=[1,2,3,4,5]\n",
    "new_array(mlist)"
   ]
  },
  {
   "cell_type": "code",
   "execution_count": 14,
   "metadata": {},
   "outputs": [
    {
     "name": "stdout",
     "output_type": "stream",
     "text": [
      "2\n"
     ]
    }
   ],
   "source": [
    "def find_missing(array):\n",
    "   array = sorted(array)\n",
    "   array_pos = [i for i in array if i>=0]\n",
    "   control = list(range(array_pos[0], array_pos[-1]+1))\n",
    "   return array_pos[-1] +1 if control == array_pos else list(set(control).difference(array_pos))[0]\n",
    "print(find_missing([3,6,-1,1]))"
   ]
  },
  {
   "cell_type": "code",
   "execution_count": null,
   "metadata": {},
   "outputs": [],
   "source": []
  }
 ],
 "metadata": {
  "kernelspec": {
   "display_name": "Python 3.8.3 32-bit",
   "language": "python",
   "name": "python38332bit9c047e7842d149818f878efc40058254"
  },
  "language_info": {
   "codemirror_mode": {
    "name": "ipython",
    "version": 3
   },
   "file_extension": ".py",
   "mimetype": "text/x-python",
   "name": "python",
   "nbconvert_exporter": "python",
   "pygments_lexer": "ipython3",
   "version": "3.8.3"
  }
 },
 "nbformat": 4,
 "nbformat_minor": 4
}
