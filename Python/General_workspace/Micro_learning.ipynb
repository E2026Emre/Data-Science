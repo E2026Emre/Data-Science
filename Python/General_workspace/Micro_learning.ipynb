{
 "cells": [
  {
   "cell_type": "code",
   "execution_count": null,
   "metadata": {},
   "outputs": [],
   "source": [
    "# Q:Write a code to calculate factorial of a number entered by user.\n",
    "    \n",
    "number = int(input(\"Please enter a number : \"))\n",
    "factorial = 1\n",
    "for i in range(1,number+1):\n",
    "    factorial *= i\n",
    "print(f\"Factorial of {number} is {factorial}\")"
   ]
  },
  {
   "cell_type": "code",
   "execution_count": null,
   "metadata": {},
   "outputs": [],
   "source": []
  },
  {
   "cell_type": "code",
   "execution_count": null,
   "metadata": {},
   "outputs": [],
   "source": [
    "# Please reverse the text below without using text index methods. Please use a loop.\n",
    "# text = “Clarusway”\n",
    "\n",
    "text = \"Clarusway\"\n",
    "newtext = \"\"\n",
    "for i in range(len(text)-1, -1, -1):\n",
    "   newtext += text[i]\n",
    "print(newtext)"
   ]
  },
  {
   "cell_type": "code",
   "execution_count": null,
   "metadata": {},
   "outputs": [],
   "source": []
  },
  {
   "cell_type": "code",
   "execution_count": null,
   "metadata": {},
   "outputs": [],
   "source": [
    "# Write a Python code that calculates the average of scores that students took in a math class at below.\n",
    "# scores = {\"Mary\" : 85, \"Susan\": 75, \"Barry\" : 65, \"Alexis\" : 88, \"Jane\" : 45, \"Tina\" : 100, \"Tom\" : 90, \"Tim\": 60}\n",
    "\n",
    "scores = {\"Mary\" : 85, \"Susan\": 75, \"Barry\" : 65, \"Alexis\" : 88, \"Jane\" : 45, \"Tina\" : 100, \"Tom\" : 90, \"Tim\": 60}\n",
    "average = sum(scores.values()) / len(scores)\n",
    "print(average)"
   ]
  },
  {
   "cell_type": "code",
   "execution_count": null,
   "metadata": {},
   "outputs": [],
   "source": []
  },
  {
   "cell_type": "code",
   "execution_count": null,
   "metadata": {},
   "outputs": [],
   "source": [
    "# Write a Python code to sort the list at below without using .sort() method of list.\n",
    "# elements of list = [999, 333, 2, 8982, 12, 45, 77, 99, 11]\n",
    "#Expected output:\n",
    "#[2, 11, 12, 45, 77, 99, 333, 999, 8982]\n",
    "\n",
    "mylist = [999, 333, 2, 8982, 12, 45, 77, 99, 11]\n",
    "for i in range(len(mylist)):\n",
    "   for j in range(i+1,len(mylist)):\n",
    "       if mylist[i] > mylist[j]:\n",
    "           temp = mylist[i]\n",
    "           mylist[i] = mylist[j]\n",
    "           mylist[j] = temp\n",
    "print(mylist)"
   ]
  },
  {
   "cell_type": "code",
   "execution_count": null,
   "metadata": {},
   "outputs": [],
   "source": []
  },
  {
   "cell_type": "code",
   "execution_count": null,
   "metadata": {},
   "outputs": [],
   "source": [
    "# Write a Python code to get lengths of a triangle from a user and then check them whether this triangle is equilateral,\n",
    "# isosceles or scalene.\n",
    "\n",
    "print(\"Please input lengths of the triangle sides: \")\n",
    "x = int(input(\"x: \"))\n",
    "y = int(input(\"y: \"))\n",
    "z = int(input(\"z: \"))\n",
    "\n",
    "if x == y == z:\n",
    "   print(\"This triangle is an equilateral triangle\")\n",
    "elif x==y or z==x or y==z:\n",
    "   print(\"This triangle is an isosceles triangle\")\n",
    "else:\n",
    "   print(\"This triangle is a scalene triangle\")"
   ]
  },
  {
   "cell_type": "code",
   "execution_count": 1,
   "metadata": {},
   "outputs": [
    {
     "name": "stdout",
     "output_type": "stream",
     "text": [
      "Please enter a string : yuert\n",
      "Your text has 2 vowels and 3 constants\n"
     ]
    }
   ],
   "source": [
    "# Write a Python code that counts how many vowels and constants a string has that a user entered.\n",
    "\n",
    "text = input(\"Please enter a string : \").lower()\n",
    "constants = 0\n",
    "vowels = 0\n",
    "for i in range(len(text)):\n",
    "   if text[i] in set(\"aeıioöuü\"):\n",
    "       vowels += 1\n",
    "   elif text[i] in set(\"bcçdfgğhjklmnpqrsştwxyz\"):\n",
    "       constants += 1\n",
    "print(f\"Your text has {vowels} vowels and {constants} constants\")"
   ]
  },
  {
   "cell_type": "code",
   "execution_count": 1,
   "metadata": {},
   "outputs": [
    {
     "name": "stdout",
     "output_type": "stream",
     "text": [
      "301\n"
     ]
    }
   ],
   "source": [
    "# Define a function with 'arbitrary numbers of arguments' method named as ‘spec_opr(*numbers)’ .\n",
    "# This function sums all of the arguments after a process. This process is even numbers should be\n",
    "# divided by 2 and odd numbers should be multiplied with 3 first and then added to the total sum. Examples:\n",
    "# spec_opr(3, 2, 6) should return 13,\n",
    "# spec_opr(58, 53, 10, -10, -40, -28, 8, 34, 70, -16, 33) should return 301,\n",
    "# spec_opr(93, 12, 5, 84, -22) should return 331\n",
    "# Answer:\n",
    "def spec_opr(*numbers):\n",
    "   total = 0\n",
    "   for number in numbers:\n",
    "       if number % 2 == 0:\n",
    "           total += number/2\n",
    "       else:\n",
    "           total += number*3\n",
    "   return int(total)\n",
    "print(spec_opr(58, 53, 10, -10, -40, -28, 8, 34, 70, -16, 33))"
   ]
  },
  {
   "cell_type": "code",
   "execution_count": 1,
   "metadata": {},
   "outputs": [
    {
     "name": "stdout",
     "output_type": "stream",
     "text": [
      "To calculate permutation please enter n : 7\n",
      "To calculate permutation please enter r : 5\n",
      "Permutation of (7,5) is 2520\n"
     ]
    }
   ],
   "source": [
    "# Define a “function” to calculate permutation of 2 numbers.\n",
    "# Reminder: P(n,r) = n!/(n-r)!\n",
    "# Clue: Defining a function that calculates factorial of given number, may be helpful.\n",
    "\n",
    "def factorial(number):\n",
    "   fact = 1\n",
    "   for i in range(1,number+1):\n",
    "       fact *= i\n",
    "   return fact\n",
    "def permutation(n,r):\n",
    "   return int(factorial(n)/factorial(n-r))\n",
    "n = int(input(\"To calculate permutation please enter n : \"))\n",
    "r = int(input(\"To calculate permutation please enter r : \"))\n",
    "print(f\"Permutation of ({n},{r}) is {permutation(n,r)}\")"
   ]
  },
  {
   "cell_type": "code",
   "execution_count": 2,
   "metadata": {},
   "outputs": [
    {
     "name": "stdout",
     "output_type": "stream",
     "text": [
      "Student-1   65.4\n",
      "Student-2   65.6\n",
      "Student-3   68.8\n",
      "Student-4   70.2\n",
      "Student-5   66.0\n",
      "\n",
      "Student-4 has maximum average with a score 70.2\n",
      "Student-1 has minimum average with a score 65.4\n"
     ]
    }
   ],
   "source": [
    "# Write a Python code that finds the students who have maximum and minimum average at a given dictionary below.\n",
    "scores = {'Student-1': {'Lesson-1': 57, 'Lesson-2': 46, 'Lesson-3': 58, 'Lesson-4': 81, 'Lesson-5': 85}, \\\n",
    "'Student-2': {'Lesson-1': 85, 'Lesson-2': 56, 'Lesson-3': 51, 'Lesson-4': 69, 'Lesson-5': 67}, \\\n",
    "'Student-3': {'Lesson-1': 68, 'Lesson-2': 76, 'Lesson-3': 87, 'Lesson-4': 57, 'Lesson-5': 56}, \\\n",
    "'Student-4': {'Lesson-1': 78, 'Lesson-2': 93, 'Lesson-3': 88, 'Lesson-4': 38, 'Lesson-5': 54}, \\\n",
    "'Student-5': {'Lesson-1': 50, 'Lesson-2': 46, 'Lesson-3': 78, 'Lesson-4': 81, 'Lesson-5': 75}}\n",
    "maxavr, minavr = 0, 100\n",
    "for i in scores:\n",
    "   average = sum(scores[i].values())/len(scores[i].values())\n",
    "   if average > maxavr:\n",
    "       maxavr = average\n",
    "       maxkey = i\n",
    "   if minavr > average:\n",
    "       minavr = average\n",
    "       minkey = i\n",
    "   print(f\"{i}   {average:.1f}\")\n",
    "print(f\"\\n{maxkey} has maximum average with a score {maxavr}\\n{minkey} has minimum average with a score {minavr}\")\n"
   ]
  },
  {
   "cell_type": "code",
   "execution_count": 3,
   "metadata": {},
   "outputs": [
    {
     "name": "stdout",
     "output_type": "stream",
     "text": [
      "Enter a number to calculate its square root: 4\n",
      "What is precision? (For Example = 0.001): 0.001\n",
      "2.0000000929222947\n"
     ]
    }
   ],
   "source": [
    "x = int(input(\"Enter a number to calculate its square root: \"))\n",
    "precision = float(input(\"What is precision? (For Example = 0.001): \"))\n",
    "r = x\n",
    "while abs(x - r * r) > precision:\n",
    "    r = (r + x/r) / 2\n",
    "print(r)"
   ]
  },
  {
   "cell_type": "code",
   "execution_count": 4,
   "metadata": {},
   "outputs": [
    {
     "name": "stdout",
     "output_type": "stream",
     "text": [
      "{'Student-1': 65.4, 'Student-2': 65.6, 'Student-3': 68.8, 'Student-4': 70.2, 'Student-5': 66.0}\n",
      "\n",
      "Student-4 has maximum average with a score 70.2\n",
      "Student-1 has minimum average with a score 65.4\n"
     ]
    }
   ],
   "source": [
    "students = {'Student-1': {'Lesson-1': 57, 'Lesson-2': 46, 'Lesson-3': 58, 'Lesson-4': 81, 'Lesson-5': 85}, \\\n",
    "'Student-2': {'Lesson-1': 85, 'Lesson-2': 56, 'Lesson-3': 51, 'Lesson-4': 69, 'Lesson-5': 67}, \\\n",
    "'Student-3': {'Lesson-1': 68, 'Lesson-2': 76, 'Lesson-3': 87, 'Lesson-4': 57, 'Lesson-5': 56}, \\\n",
    "'Student-4': {'Lesson-1': 78, 'Lesson-2': 93, 'Lesson-3': 88, 'Lesson-4': 38, 'Lesson-5': 54}, \\\n",
    "'Student-5': {'Lesson-1': 50, 'Lesson-2': 46, 'Lesson-3': 78, 'Lesson-4': 81, 'Lesson-5': 75}}\n",
    "\n",
    "def avr_grade(students):\n",
    "    avarage_grades = dict(map(lambda x : (x, sum(students[x].values())/ len(students[x].values())), students))\n",
    "    print(avarage_grades)\n",
    "    max_grade = max(avarage_grades, key = lambda i: avarage_grades[i])\n",
    "    # return max_grade\n",
    "    min_grade = min(avarage_grades, key = lambda i: avarage_grades[i])\n",
    "    # return min_grade\n",
    "    return f\"\\n{max_grade} has maximum average with a score {avarage_grades[max_grade]}\\n{min_grade} has minimum average with a score {avarage_grades[min_grade]}\"\n",
    "print(avr_grade(students))"
   ]
  },
  {
   "cell_type": "code",
   "execution_count": null,
   "metadata": {},
   "outputs": [],
   "source": []
  }
 ],
 "metadata": {
  "kernelspec": {
   "display_name": "Python 3",
   "language": "python",
   "name": "python3"
  },
  "language_info": {
   "codemirror_mode": {
    "name": "ipython",
    "version": 3
   },
   "file_extension": ".py",
   "mimetype": "text/x-python",
   "name": "python",
   "nbconvert_exporter": "python",
   "pygments_lexer": "ipython3",
   "version": "3.7.6"
  }
 },
 "nbformat": 4,
 "nbformat_minor": 4
}
