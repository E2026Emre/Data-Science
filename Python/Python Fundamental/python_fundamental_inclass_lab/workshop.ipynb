{
 "cells": [
  {
   "cell_type": "markdown",
   "metadata": {},
   "source": [
    "### Problem 1\n",
    "\n",
    "Kullanıcıdan aldığınız 3 tane sayıyı çarparak ekrana yazdırın. Ekrana yazdırma işlemini ***format*** metoduyla yapmaya çalışın."
   ]
  },
  {
   "cell_type": "code",
   "execution_count": 1,
   "metadata": {},
   "outputs": [
    {
     "name": "stdout",
     "output_type": "stream",
     "text": [
      "Bir sayı giriniz: 3\n",
      "Bir sayı giriniz: 4\n",
      "Bir sayı giriniz: 5\n",
      "60\n",
      "3*4*5 işleminin sonucu: 60'dır\n"
     ]
    }
   ],
   "source": [
    "a = int(input(\"Bir sayı giriniz: \"))\n",
    "b = int(input(\"Bir sayı giriniz: \"))\n",
    "c = int(input(\"Bir sayı giriniz: \"))\n",
    "sonuç = f\"{a*b*c}\"\n",
    "print(sonuç)\n",
    "print(\"{}*{}*{} işleminin sonucu: {}'dır\".format(a, b, c, sonuç))"
   ]
  },
  {
   "cell_type": "markdown",
   "metadata": {},
   "source": [
    "### Problem 2\n",
    "\n",
    "Kullanıcıdan aldığınız **boy** ve **kilo** değerlerine göre kullanıcının beden kitle indeksini bulun.\n",
    "\n",
    "*Beden Kitle İndeksi :  Kilo / Boy(m) * Boy(m)"
   ]
  },
  {
   "cell_type": "code",
   "execution_count": 5,
   "metadata": {},
   "outputs": [
    {
     "name": "stdout",
     "output_type": "stream",
     "text": [
      "boyunuzu metre cinsinden giriniz: 1.92\n",
      "kilonuzu giriniz: 86\n",
      "boy kilo endeksiniz:  23.328993055555557\n",
      "Sağlıklı bir kilodasınız\n"
     ]
    }
   ],
   "source": [
    "boy = float(input(\"boyunuzu metre cinsinden giriniz: \"))\n",
    "kilo = float(input(\"kilonuzu giriniz: \"))\n",
    "boy_kilo_indx = kilo / boy ** 2\n",
    "print(\"boy kilo endeksiniz: \", boy_kilo_indx)\n",
    "if boy_kilo_indx < 20:\n",
    "    print(\"Çok zayıfsınız\")\n",
    "elif boy_kilo_indx < 25:\n",
    "    print(\"Sağlıklı bir kilodasınız\")\n",
    "elif boy_kilo_indx < 35:\n",
    "    print(\"Fazla kilolusunuz\")\n",
    "else:\n",
    "    print(\"obezsiniz\")"
   ]
  },
  {
   "cell_type": "markdown",
   "metadata": {},
   "source": [
    "### Problem 3\n",
    "\n",
    "Elinizde 200 dolarla değeri 11 dolar olan malzemeden max kaç adet alabilirsiniz? Geriye ne kadar paranız kalır?"
   ]
  },
  {
   "cell_type": "code",
   "execution_count": 6,
   "metadata": {},
   "outputs": [
    {
     "name": "stdout",
     "output_type": "stream",
     "text": [
      "200$ para ile değeri 11$ olan malzemeden 18 adet alabilirsiniz ve geriye 2$ paranız kalır.\n"
     ]
    }
   ],
   "source": [
    "param = 200\n",
    "mlz_fiyatı = 11\n",
    "miktar = param // mlz_fiyatı\n",
    "kalan = param % mlz_fiyatı\n",
    "print(\"{}$ para ile değeri {}$ olan malzemeden {} adet alabilirsiniz ve geriye {}$ paranız kalır.\".format(param, mlz_fiyatı, miktar, kalan))"
   ]
  },
  {
   "cell_type": "markdown",
   "metadata": {},
   "source": [
    "### Problem 4\n",
    "\n",
    "Kullanıcıdan iki tane sayı isteyin ve bu sayıların değerlerini birbirleriyle değiştirin.."
   ]
  },
  {
   "cell_type": "code",
   "execution_count": 7,
   "metadata": {},
   "outputs": [
    {
     "name": "stdout",
     "output_type": "stream",
     "text": [
      "bir sayı giriniz: 5\n",
      "bir sayı giriniz: 6\n",
      "birinci sayı:  5 \n",
      "ikinci sayı:  6\n",
      "birinci sayı:  6 \n",
      "ikinci sayı:  5\n"
     ]
    }
   ],
   "source": [
    "a = input(\"bir sayı giriniz: \")\n",
    "b = input(\"bir sayı giriniz: \")\n",
    "print(\"birinci sayı: \", a, \"\\nikinci sayı: \", b)\n",
    "a, b = b, a\n",
    "print(\"birinci sayı: \", a, \"\\nikinci sayı: \", b)"
   ]
  },
  {
   "cell_type": "markdown",
   "metadata": {},
   "source": [
    "### Problem 5\n",
    "\n",
    "Kullanıcıdan ad,soyad ve numara bilgisini alarak bunları alt alta ekrana yazdırın."
   ]
  },
  {
   "cell_type": "code",
   "execution_count": 8,
   "metadata": {},
   "outputs": [
    {
     "name": "stdout",
     "output_type": "stream",
     "text": [
      "Name:sezgin\n",
      "Surname:sezerer\n",
      "Phone number:554 223 91 66\n",
      "Name:sezgin\n",
      "Surname: sezerer\n",
      "Phone number:554 223 91 66\n",
      "Name:sezgin \n",
      "Surname:sezerer \n",
      "Phone number:554 223 91 66\n",
      "Name:sezgin\n",
      "Surname:sezerer\n",
      "Phone number:554 223 91 66\n",
      "Name:sezgin \n",
      "Surname:sezerer \n",
      "Phone Number:554 223 91 66\n",
      "Name:sezgin \n",
      "Surname:sezerer \n",
      "Phone number:554 223 91 66\n",
      "Name:sezgin\n",
      "Surname:sezerer\n",
      "Phone number:554 223 91 66\n"
     ]
    }
   ],
   "source": [
    "name = input(\"Name:\")\n",
    "surname = input(\"Surname:\")\n",
    "number = input(\"Phone number:\")\n",
    "print(\"Name:%s\" %name)\n",
    "print(\"Surname:\", surname)\n",
    "print(\"Phone number:{}\".format(number))\n",
    "print(\"Name:%s \\nSurname:%s \\nPhone number:%s\" %(name, surname, number))\n",
    "print(\"Name:\"+name, \"Surname:\"+surname, \"Phone number:\"+number, sep=\"\\n\")\n",
    "print(\"Name:{2} \\nSurname:{0} \\nPhone Number:{1}\".format(surname, number, name))\n",
    "print(f\"Name:{name} \\nSurname:{surname} \\nPhone number:{number}\")\n",
    "print(f\"Name:{name}\", f\"Surname:{surname}\", f\"Phone number:{number}\", sep=\"\\n\")"
   ]
  },
  {
   "cell_type": "markdown",
   "metadata": {},
   "source": [
    "### Problem 6\n",
    "\n",
    "Kullanıcıdan word, seperator ve repetition değerleri alıp, verilen değerlere göre kelimeyi ekrana yazdırın. Örn: word = ali sep = / repetition = 3 ----> ali/ali/ali"
   ]
  },
  {
   "cell_type": "code",
   "execution_count": 10,
   "metadata": {},
   "outputs": [
    {
     "name": "stdout",
     "output_type": "stream",
     "text": [
      "Bir kelime giriniz: can\n",
      "Bir seperation giriniz: -\n",
      "Bir repetation degeri giriniz: 3\n",
      "can-can-can-\n",
      "can-can-can\n",
      "can-can-can\n"
     ]
    }
   ],
   "source": [
    "word = input(\"Bir kelime giriniz: \")\n",
    "seperation = input(\"Bir seperation giriniz: \")\n",
    "repetation = int(input(\"Bir repetation degeri giriniz: \"))\n",
    "output= repetation * (word + seperation)\n",
    "print(output)\n",
    "print(output[:-1])\n",
    "print(output+\"\\b\")"
   ]
  },
  {
   "cell_type": "markdown",
   "metadata": {},
   "source": [
    "### Problem 7\n",
    "\n",
    "Kullanıcıdan kelime ve sayı girdisi alın ve örnekteki çıktıyı else edin.\n",
    "Örn:\n",
    "word = Clarusway\n",
    "n = 3\n",
    "OUTPUT = waywayway "
   ]
  },
  {
   "cell_type": "code",
   "execution_count": 12,
   "metadata": {},
   "outputs": [
    {
     "name": "stdout",
     "output_type": "stream",
     "text": [
      "Bir kelime giriniz: clarusway\n",
      "Bir n değeri giriniz: 3\n",
      "waywayway\n"
     ]
    }
   ],
   "source": [
    "word = input(\"Bir kelime giriniz: \")\n",
    "n = int(input(\"Bir n değeri giriniz: \"))\n",
    "print(n * word[-n:])"
   ]
  },
  {
   "cell_type": "markdown",
   "metadata": {},
   "source": [
    "### Problem 8\n",
    "Kullanıcıdan bir sayı alın, eğer sayı 3 e bölünüyorsa Clarus, 5 e bölünüyorsa way, her ikisine bölünüyorsa Clarusway, bölünmüyorsa sayının kendisini yazdırın"
   ]
  },
  {
   "cell_type": "code",
   "execution_count": 20,
   "metadata": {},
   "outputs": [
    {
     "name": "stdout",
     "output_type": "stream",
     "text": [
      "bir sayı giriniz: 22\n",
      "22\n"
     ]
    }
   ],
   "source": [
    "sayı = int(input(\"bir sayı giriniz: \"))\n",
    "sonuç1 = sayı % 3\n",
    "sonuç2 = sayı % 5\n",
    "if sonuç1 == sonuç2 == 0:\n",
    "    print(\"Clarusway\")\n",
    "elif sonuç1 == 0:\n",
    "    print(\"Clarusway\"[:6])\n",
    "elif sonuç2 == 0:\n",
    "    print(\"Clarusway\"[-3:])\n",
    "else:\n",
    "    print(sayı)"
   ]
  },
  {
   "cell_type": "markdown",
   "metadata": {},
   "source": [
    "### Problem 9\n",
    "letters = \"abclarusxyz\" \n",
    "- yığındaki clarus kelimesini elde edin\n",
    "- cba yı elde edin\n",
    "- son sekiz karakteri ters sırayla yazdırın"
   ]
  },
  {
   "cell_type": "code",
   "execution_count": 21,
   "metadata": {},
   "outputs": [
    {
     "name": "stdout",
     "output_type": "stream",
     "text": [
      "clarus\n",
      "cba\n",
      "zyxsura\n"
     ]
    }
   ],
   "source": [
    "letters = \"abclarusxyz\"\n",
    "print(letters[2:8])\n",
    "print(letters[2::-1])\n",
    "print(letters[:-8:-1])"
   ]
  },
  {
   "cell_type": "code",
   "execution_count": null,
   "metadata": {},
   "outputs": [],
   "source": [
    "### Problem 10\n",
    "rand_list = [1,[1, 2, \"Clarus\", [2, \"way\"]], \" is the best\"]\n",
    "\n",
    "rand_list listesinin elemanlarından\n",
    "Claruway is the best yazdırın"
   ]
  },
  {
   "cell_type": "code",
   "execution_count": 24,
   "metadata": {},
   "outputs": [
    {
     "name": "stdout",
     "output_type": "stream",
     "text": [
      "Clarusway is the best\n"
     ]
    }
   ],
   "source": [
    "rand_list = [1,[1, 2, \"Clarus\", [2, \"way\"]], \" is the best\"]\n",
    "print(f\"{rand_list[1][2]}{rand_list[1][3][1]}{rand_list[2]}\")"
   ]
  },
  {
   "cell_type": "code",
   "execution_count": null,
   "metadata": {},
   "outputs": [],
   "source": [
    "### Problem 11\n",
    "Aşağıda verilen listeyi küçükten büyüğe sıralayın. 1 den 10 a kadar eksik olan sayıyı bulun?\n",
    "num_list = [2, 3, 1, 5, 6, 4, 9, 8, 10]"
   ]
  },
  {
   "cell_type": "code",
   "execution_count": 25,
   "metadata": {},
   "outputs": [
    {
     "name": "stdout",
     "output_type": "stream",
     "text": [
      "None\n",
      "8\n"
     ]
    }
   ],
   "source": [
    "num_list = [2, 3, 1, 5, 6, 4, 9, 8, 10]\n",
    "print(num_list.sort())\n",
    "print(num_list[6])\n"
   ]
  },
  {
   "cell_type": "markdown",
   "metadata": {},
   "source": [
    "Problem 12\n",
    "\n",
    "en yaşlı kişinin ismini yazdırın?\n",
    "\n",
    "old ={\n",
    "  \"Emma\": 71,\n",
    "  \"Jack\": 45,\n",
    "  \"Amy\": 15,\n",
    "  \"Ben\": 29\n",
    "}"
   ]
  },
  {
   "cell_type": "code",
   "execution_count": null,
   "metadata": {},
   "outputs": [],
   "source": []
  }
 ],
 "metadata": {
  "kernelspec": {
   "display_name": "Python 3",
   "language": "python",
   "name": "python3"
  },
  "language_info": {
   "codemirror_mode": {
    "name": "ipython",
    "version": 3
   },
   "file_extension": ".py",
   "mimetype": "text/x-python",
   "name": "python",
   "nbconvert_exporter": "python",
   "pygments_lexer": "ipython3",
   "version": "3.7.6"
  }
 },
 "nbformat": 4,
 "nbformat_minor": 2
}
