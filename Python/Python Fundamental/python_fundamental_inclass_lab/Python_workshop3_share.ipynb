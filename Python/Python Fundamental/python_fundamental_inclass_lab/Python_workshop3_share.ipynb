{
 "cells": [
  {
   "cell_type": "markdown",
   "metadata": {},
   "source": [
    "### Problem 1\n",
    "\n",
    "Verilen iki listenin kesişim elemanlarını set kullanmadan bulmaya çalışın?"
   ]
  },
  {
   "cell_type": "code",
   "execution_count": null,
   "metadata": {},
   "outputs": [],
   "source": []
  },
  {
   "cell_type": "markdown",
   "metadata": {},
   "source": [
    "### Problem 2\n",
    "\n",
    "Verilen kelimede w2 harfini w1 ile değiştiren fonksiyon yazın? (lambda ile yazmaya çalışın)\n"
   ]
  },
  {
   "cell_type": "code",
   "execution_count": null,
   "metadata": {},
   "outputs": [],
   "source": []
  },
  {
   "cell_type": "markdown",
   "metadata": {},
   "source": [
    "### Problem 3\n",
    "\n",
    "list1 = [[(3, 4, 5), (6, 8, 10), (3, 10, 7)]] verilen listenin elemanlarından üçgen oluuşturulabilen elemanları bulun?"
   ]
  },
  {
   "cell_type": "code",
   "execution_count": null,
   "metadata": {},
   "outputs": [],
   "source": []
  },
  {
   "cell_type": "markdown",
   "metadata": {},
   "source": [
    "### Problem 4\n",
    "\n",
    "Kullanıcıdan girdi alan ve girilen değer sayı değilse \"sayı\" is not valid number mesajı veren bir fonksiyon yazın"
   ]
  },
  {
   "cell_type": "code",
   "execution_count": null,
   "metadata": {},
   "outputs": [],
   "source": []
  },
  {
   "cell_type": "markdown",
   "metadata": {},
   "source": [
    "### Problem 5\n",
    "\n",
    "Soru 4 de yazdığınız fonksiyonu is_int.py uzantılı olarak kaydedin ve daha önceden yaptığınız amstrong sayısını bulma ödevinde kullanmak üzere import edip kullanın.\n"
   ]
  },
  {
   "cell_type": "code",
   "execution_count": null,
   "metadata": {},
   "outputs": [],
   "source": []
  },
  {
   "cell_type": "markdown",
   "metadata": {},
   "source": [
    "### Problem 6\n",
    "\n",
    "Kullanıcıdan aldığınız cümlenin palindrom olup olmadığını kontrol eden fonksiyon yazın.(Noktalama ve özel karakterleri dikkate almayın. Sadece alphanumeric karakterler i dikkate alın.)"
   ]
  },
  {
   "cell_type": "code",
   "execution_count": null,
   "metadata": {},
   "outputs": [],
   "source": []
  },
  {
   "cell_type": "markdown",
   "metadata": {},
   "source": [
    "### Problem 7\n",
    "\n",
    "Micro learning de çözülen aşağıdaki soruyu fonksiyon olarak düzenleyin?(Lamda kullanmayı deneyin)\n",
    "\n"
   ]
  },
  {
   "cell_type": "code",
   "execution_count": 2,
   "metadata": {},
   "outputs": [],
   "source": [
    "students = {'Student-1': {'Lesson-1': 57, 'Lesson-2': 46, 'Lesson-3': 58, 'Lesson-4': 81, 'Lesson-5': 85}, \\\n",
    "'Student-2': {'Lesson-1': 85, 'Lesson-2': 56, 'Lesson-3': 51, 'Lesson-4': 69, 'Lesson-5': 67}, \\\n",
    "'Student-3': {'Lesson-1': 68, 'Lesson-2': 76, 'Lesson-3': 87, 'Lesson-4': 57, 'Lesson-5': 56}, \\\n",
    "'Student-4': {'Lesson-1': 78, 'Lesson-2': 93, 'Lesson-3': 88, 'Lesson-4': 38, 'Lesson-5': 54}, \\\n",
    "'Student-5': {'Lesson-1': 50, 'Lesson-2': 46, 'Lesson-3': 78, 'Lesson-4': 81, 'Lesson-5': 75}}\n"
   ]
  },
  {
   "cell_type": "code",
   "execution_count": 5,
   "metadata": {
    "tags": []
   },
   "outputs": [
    {
     "name": "stdout",
     "output_type": "stream",
     "text": [
      "Student-1   65.4\n",
      "Student-2   65.6\n",
      "Student-3   68.8\n",
      "Student-4   70.2\n",
      "Student-5   66.0\n",
      "\n",
      "Student-4 has maximum average with a score 70.2\n",
      "Student-1 has minimum average with a score 65.4\n"
     ]
    }
   ],
   "source": [
    "maxavr, minavr = 0, 100\n",
    "for i in students:\n",
    "   average = sum(students[i].values())/len(students[i].values())\n",
    "   if average > maxavr:\n",
    "       maxavr = average\n",
    "       maxkey = i\n",
    "   if minavr > average:\n",
    "       minavr = average\n",
    "       minkey = i\n",
    "   print(f\"{i}   {average:.1f}\")\n",
    "print(f\"\\n{maxkey} has maximum average with a score {maxavr}\\n{minkey} has minimum average with a score {minavr}\")"
   ]
  }
 ],
 "metadata": {
  "kernelspec": {
   "display_name": "Python 3",
   "language": "python",
   "name": "python3"
  },
  "language_info": {
   "codemirror_mode": {
    "name": "ipython",
    "version": 3
   },
   "file_extension": ".py",
   "mimetype": "text/x-python",
   "name": "python",
   "nbconvert_exporter": "python",
   "pygments_lexer": "ipython3",
   "version": "3.7.6"
  }
 },
 "nbformat": 4,
 "nbformat_minor": 2
}
