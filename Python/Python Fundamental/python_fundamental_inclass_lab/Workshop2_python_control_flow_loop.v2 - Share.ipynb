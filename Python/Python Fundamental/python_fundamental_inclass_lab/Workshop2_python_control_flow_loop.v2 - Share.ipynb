{
 "cells": [
  {
   "cell_type": "markdown",
   "metadata": {},
   "source": [
    "SORU:1\n",
    "Aldığınız kursun adına göre IT alanında meslek sahibi olup olamayacağınızı ekrana yazdıran bir kod yazınız. (Kabul edilen=Clarusway)"
   ]
  },
  {
   "cell_type": "code",
   "execution_count": 1,
   "metadata": {},
   "outputs": [
    {
     "name": "stdout",
     "output_type": "stream",
     "text": [
      "Think again your course selected \n"
     ]
    }
   ],
   "source": [
    "course = \"apple\"\n",
    "if course == \"clarusway\":\n",
    "    print(\"You guaranteed the job\")\n",
    "else:\n",
    "    print(\"Think again your course selected \")"
   ]
  },
  {
   "cell_type": "markdown",
   "metadata": {},
   "source": [
    "SORU:2\n",
    "Alınan ağırlık değerine göre ağırlığı kaldırıp kaldıramayacağınızı ekrana yazdıran bir kod yazınız. (ÖR: 100 kg'a kadar kaldırabiliyorum)"
   ]
  },
  {
   "cell_type": "code",
   "execution_count": 3,
   "metadata": {},
   "outputs": [
    {
     "name": "stdout",
     "output_type": "stream",
     "text": [
      "what's your capacity to lift as kg : 100\n",
      "please enter a weight : 100\n",
      "I can handle but it is very hard job\n"
     ]
    }
   ],
   "source": [
    "cap = int(input(\"what's your capacity to lift as kg : \").strip())\n",
    "weight = int(input(\"please enter a weight : \"))\n",
    "if cap > weight:\n",
    "    print(\"I can lift it\")\n",
    "elif cap == weight:\n",
    "    print(\"I can handle but it is very hard job\")\n",
    "else:\n",
    "    print(\"that's too heavy\")"
   ]
  },
  {
   "cell_type": "markdown",
   "metadata": {},
   "source": [
    "SORU:3 Girilen sayının pozitif, negatif, ya da 0 olduğunu bulan kodu yazınız."
   ]
  },
  {
   "cell_type": "code",
   "execution_count": 6,
   "metadata": {},
   "outputs": [
    {
     "name": "stdout",
     "output_type": "stream",
     "text": [
      "please enter a number : 5\n",
      "The number entered is pozitif\n"
     ]
    }
   ],
   "source": [
    "num = int(input(\"please enter a number : \"))\n",
    "if num == 0:\n",
    "    print(\"The number entered is zero\")\n",
    "elif num > 0:\n",
    "    print(\"The number entered is pozitif\")\n",
    "else:\n",
    "    print(\"The number entered is negatif\")"
   ]
  },
  {
   "cell_type": "markdown",
   "metadata": {},
   "source": [
    "SORU:4\n",
    "Kişinin ad, kilo ve boy bilgilerini alıp kilo indekslerini hesaplayan python uygulamasını yapınız.\n",
    "\n",
    "Formül: (Kilo / boy uzunluğunun karesi)\n",
    "\n",
    "Aşağıdaki tabloya göre kişi hangi gruba girmektedir.\n",
    "\n",
    "0-18.4 => Zayıf\n",
    "\n",
    "18.5-24.9 => Normal\n",
    "\n",
    "25.0-29.9 => Fazla Kilolu\n",
    "\n",
    "30.0-34.9 => Şişman (Obez)Kişinin ad, kilo ve boy bilgilerini alıp kilo indekslerini hesaplayan python uygulamasını yapınız."
   ]
  },
  {
   "cell_type": "code",
   "execution_count": 10,
   "metadata": {},
   "outputs": [
    {
     "name": "stdout",
     "output_type": "stream",
     "text": [
      "please enter a name : emre\n",
      "please enter your weight as a kg: 86\n",
      "please enter your hight as a meter : 1.92\n",
      "emre, endeksin 23.33 ve normalsin\n"
     ]
    }
   ],
   "source": [
    "name = input(\"please enter a name : \")\n",
    "weight = int(input(\"please enter your weight as a kg: \"))\n",
    "hight = float(input(\"please enter your hight as a meter : \"))\n",
    "\n",
    "endeks = round(weight / (hight**2), 2)\n",
    "              \n",
    "if endeks < 18.4:\n",
    "    print(f\"{name}, endeksin {endeks} ve zayıfsın\")\n",
    "elif 18.4 < endeks < 24.9:\n",
    "    print(f\"{name}, endeksin {endeks} ve normalsin\")\n",
    "elif 24.9 < endeks < 29.9:\n",
    "    print(f\"{name}, endeksin {endeks} ve kilolusun\")\n",
    "elif 29.9 < endeks < 46:\n",
    "    print(f\"{name}, endeksin {endeks} ve obezsin\")\n",
    "else:\n",
    "    print(\"bilgilerinizi kontrol ediniz\")"
   ]
  },
  {
   "cell_type": "markdown",
   "metadata": {},
   "source": [
    "SORU:5 Meyvelerden oluşan bir liste oluştur ve for kullanarak ekrana yazdır:"
   ]
  },
  {
   "cell_type": "code",
   "execution_count": null,
   "metadata": {},
   "outputs": [],
   "source": []
  },
  {
   "cell_type": "markdown",
   "metadata": {},
   "source": [
    "SORU:6  0 ile 10 arasındaki sayıları ve karelerini for kullanarak ekrana yazdır."
   ]
  },
  {
   "cell_type": "code",
   "execution_count": 13,
   "metadata": {},
   "outputs": [
    {
     "name": "stdout",
     "output_type": "stream",
     "text": [
      "{0: 0, 1: 1, 2: 4, 3: 9, 4: 16, 5: 25, 6: 36, 7: 49, 8: 64, 9: 81, 10: 100}\n"
     ]
    }
   ],
   "source": [
    "kare = {}\n",
    "for i in range(11):\n",
    "    x = i**2\n",
    "    kare[i] = x\n",
    "print(kare)"
   ]
  },
  {
   "cell_type": "markdown",
   "metadata": {},
   "source": [
    "SORU:7 1 ile 10 arasında sayıları for kullanarak ekrana yazdır 5 i görünce döngüden çık."
   ]
  },
  {
   "cell_type": "code",
   "execution_count": null,
   "metadata": {},
   "outputs": [],
   "source": []
  },
  {
   "cell_type": "markdown",
   "metadata": {},
   "source": [
    "SORU:8 0 dan 10 a kadar olan tek sayıları for döngüsü kullanarak ekrana yazdır."
   ]
  },
  {
   "cell_type": "code",
   "execution_count": null,
   "metadata": {},
   "outputs": [],
   "source": []
  },
  {
   "cell_type": "markdown",
   "metadata": {},
   "source": [
    "SORU:9 While döngüsü kullanarak sonsuz döngü örneği yazınız."
   ]
  },
  {
   "cell_type": "code",
   "execution_count": null,
   "metadata": {},
   "outputs": [],
   "source": []
  },
  {
   "cell_type": "markdown",
   "metadata": {},
   "source": [
    "SORU:10 Girilen sayının faktoriyelini alan kodu for döngüsü kullanarak yazınız."
   ]
  },
  {
   "cell_type": "code",
   "execution_count": null,
   "metadata": {},
   "outputs": [],
   "source": []
  },
  {
   "cell_type": "markdown",
   "metadata": {},
   "source": [
    "SORU:11 for döngüsü kullanarak 1 den 10 a kadar çarpım tablosu oluşturunuz."
   ]
  },
  {
   "cell_type": "code",
   "execution_count": null,
   "metadata": {},
   "outputs": [],
   "source": []
  },
  {
   "cell_type": "markdown",
   "metadata": {},
   "source": [
    "SORU:12 for döngüsü kullanarak bir sözlüğün elemanlarını ekrana yazdırınız."
   ]
  },
  {
   "cell_type": "code",
   "execution_count": null,
   "metadata": {},
   "outputs": [],
   "source": []
  },
  {
   "cell_type": "markdown",
   "metadata": {},
   "source": [
    "SORU:13 Aşağıda verilen listenin tüm elemanlarını while döngüsü kullanarak ekrana yazdırınız."
   ]
  },
  {
   "cell_type": "code",
   "execution_count": null,
   "metadata": {},
   "outputs": [],
   "source": []
  },
  {
   "cell_type": "markdown",
   "metadata": {},
   "source": [
    "SORU:14  1'den 10' a kadar olan sayıları while kullanarak ekrana yazdırınız.\n"
   ]
  },
  {
   "cell_type": "code",
   "execution_count": null,
   "metadata": {},
   "outputs": [],
   "source": []
  },
  {
   "cell_type": "markdown",
   "metadata": {},
   "source": [
    "SORU:15  Write a Python code that counts how many vowels and constants a string has that a user entered."
   ]
  },
  {
   "cell_type": "code",
   "execution_count": null,
   "metadata": {},
   "outputs": [],
   "source": []
  },
  {
   "cell_type": "markdown",
   "metadata": {},
   "source": [
    "SORU:16  Print-return farkı"
   ]
  },
  {
   "cell_type": "code",
   "execution_count": null,
   "metadata": {},
   "outputs": [],
   "source": []
  },
  {
   "cell_type": "markdown",
   "metadata": {},
   "source": [
    "SORU:17  *arg and **kwargs"
   ]
  },
  {
   "cell_type": "code",
   "execution_count": null,
   "metadata": {},
   "outputs": [],
   "source": []
  },
  {
   "cell_type": "markdown",
   "metadata": {},
   "source": [
    "SORU:18  *arg and **kwargs"
   ]
  },
  {
   "cell_type": "code",
   "execution_count": null,
   "metadata": {},
   "outputs": [],
   "source": []
  },
  {
   "cell_type": "markdown",
   "metadata": {},
   "source": [
    "SORU:19  Define a function with 'arbitrary numbers of arguments' method named as ‘spec_opr(*numbers)' . This function sums all of the arguments after a process. \n",
    "This process is even numbers should be divided by 2 and odd numbers should be multiplied with 3 first and then added to the total sum. \n",
    "\n",
    "Examples:\n",
    "\n",
    "spec_opr(3, 2, 6) should return 13,\n",
    "\n",
    "spec_opr(58, 53, 10, -10, -40, -28, 8, 34, 70, -16, 33) should return 301,\n",
    "\n",
    "spec_opr(93, 12, 5, 84, -22) should return 331"
   ]
  },
  {
   "cell_type": "code",
   "execution_count": null,
   "metadata": {},
   "outputs": [],
   "source": []
  },
  {
   "cell_type": "markdown",
   "metadata": {},
   "source": [
    "SORU:20  Write a Python program to sort a list of tuples using Lambda."
   ]
  },
  {
   "cell_type": "code",
   "execution_count": null,
   "metadata": {},
   "outputs": [],
   "source": []
  },
  {
   "cell_type": "markdown",
   "metadata": {},
   "source": [
    "SORU:21  Write a Python function that takes a list and returns a new list with unique elements of the first list."
   ]
  },
  {
   "cell_type": "code",
   "execution_count": null,
   "metadata": {},
   "outputs": [],
   "source": []
  },
  {
   "cell_type": "markdown",
   "metadata": {},
   "source": [
    "SORU:22  Write a Python program to filter a list of integers using Lambda."
   ]
  },
  {
   "cell_type": "code",
   "execution_count": null,
   "metadata": {},
   "outputs": [],
   "source": []
  }
 ],
 "metadata": {
  "kernelspec": {
   "display_name": "Python 3",
   "language": "python",
   "name": "python3"
  },
  "language_info": {
   "codemirror_mode": {
    "name": "ipython",
    "version": 3
   },
   "file_extension": ".py",
   "mimetype": "text/x-python",
   "name": "python",
   "nbconvert_exporter": "python",
   "pygments_lexer": "ipython3",
   "version": "3.7.6"
  }
 },
 "nbformat": 4,
 "nbformat_minor": 4
}
