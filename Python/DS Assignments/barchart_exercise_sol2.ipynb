{
 "cells": [
  {
   "cell_type": "code",
   "execution_count": 1,
   "metadata": {},
   "outputs": [],
   "source": [
    "import pandas as pd\n",
    "import numpy as np\n",
    "import matplotlib.pyplot as plt"
   ]
  },
  {
   "cell_type": "code",
   "execution_count": 2,
   "metadata": {},
   "outputs": [],
   "source": [
    "df = pd.read_csv(\"bar_data.csv\")"
   ]
  },
  {
   "cell_type": "code",
   "execution_count": 3,
   "metadata": {},
   "outputs": [
    {
     "data": {
      "text/html": [
       "<div>\n",
       "<style scoped>\n",
       "    .dataframe tbody tr th:only-of-type {\n",
       "        vertical-align: middle;\n",
       "    }\n",
       "\n",
       "    .dataframe tbody tr th {\n",
       "        vertical-align: top;\n",
       "    }\n",
       "\n",
       "    .dataframe thead th {\n",
       "        text-align: right;\n",
       "    }\n",
       "</style>\n",
       "<table border=\"1\" class=\"dataframe\">\n",
       "  <thead>\n",
       "    <tr style=\"text-align: right;\">\n",
       "      <th></th>\n",
       "      <th>Responder_id</th>\n",
       "      <th>LanguagesWorkedWith</th>\n",
       "    </tr>\n",
       "  </thead>\n",
       "  <tbody>\n",
       "    <tr>\n",
       "      <th>0</th>\n",
       "      <td>1</td>\n",
       "      <td>HTML/CSS;Java;JavaScript;Python</td>\n",
       "    </tr>\n",
       "    <tr>\n",
       "      <th>1</th>\n",
       "      <td>2</td>\n",
       "      <td>C++;HTML/CSS;Python</td>\n",
       "    </tr>\n",
       "    <tr>\n",
       "      <th>2</th>\n",
       "      <td>3</td>\n",
       "      <td>HTML/CSS</td>\n",
       "    </tr>\n",
       "    <tr>\n",
       "      <th>3</th>\n",
       "      <td>4</td>\n",
       "      <td>C;C++;C#;Python;SQL</td>\n",
       "    </tr>\n",
       "    <tr>\n",
       "      <th>4</th>\n",
       "      <td>5</td>\n",
       "      <td>C++;HTML/CSS;Java;JavaScript;Python;SQL;VBA</td>\n",
       "    </tr>\n",
       "    <tr>\n",
       "      <th>...</th>\n",
       "      <td>...</td>\n",
       "      <td>...</td>\n",
       "    </tr>\n",
       "    <tr>\n",
       "      <th>87564</th>\n",
       "      <td>88182</td>\n",
       "      <td>HTML/CSS;Java;JavaScript</td>\n",
       "    </tr>\n",
       "    <tr>\n",
       "      <th>87565</th>\n",
       "      <td>88212</td>\n",
       "      <td>HTML/CSS;JavaScript;Python</td>\n",
       "    </tr>\n",
       "    <tr>\n",
       "      <th>87566</th>\n",
       "      <td>88282</td>\n",
       "      <td>Bash/Shell/PowerShell;Go;HTML/CSS;JavaScript;W...</td>\n",
       "    </tr>\n",
       "    <tr>\n",
       "      <th>87567</th>\n",
       "      <td>88377</td>\n",
       "      <td>HTML/CSS;JavaScript;Other(s):</td>\n",
       "    </tr>\n",
       "    <tr>\n",
       "      <th>87568</th>\n",
       "      <td>88863</td>\n",
       "      <td>Bash/Shell/PowerShell;HTML/CSS;Java;JavaScript...</td>\n",
       "    </tr>\n",
       "  </tbody>\n",
       "</table>\n",
       "<p>87569 rows × 2 columns</p>\n",
       "</div>"
      ],
      "text/plain": [
       "       Responder_id                                LanguagesWorkedWith\n",
       "0                 1                    HTML/CSS;Java;JavaScript;Python\n",
       "1                 2                                C++;HTML/CSS;Python\n",
       "2                 3                                           HTML/CSS\n",
       "3                 4                                C;C++;C#;Python;SQL\n",
       "4                 5        C++;HTML/CSS;Java;JavaScript;Python;SQL;VBA\n",
       "...             ...                                                ...\n",
       "87564         88182                           HTML/CSS;Java;JavaScript\n",
       "87565         88212                         HTML/CSS;JavaScript;Python\n",
       "87566         88282  Bash/Shell/PowerShell;Go;HTML/CSS;JavaScript;W...\n",
       "87567         88377                      HTML/CSS;JavaScript;Other(s):\n",
       "87568         88863  Bash/Shell/PowerShell;HTML/CSS;Java;JavaScript...\n",
       "\n",
       "[87569 rows x 2 columns]"
      ]
     },
     "execution_count": 3,
     "metadata": {},
     "output_type": "execute_result"
    }
   ],
   "source": [
    "df"
   ]
  },
  {
   "cell_type": "code",
   "execution_count": 4,
   "metadata": {},
   "outputs": [
    {
     "name": "stdout",
     "output_type": "stream",
     "text": [
      "<class 'pandas.core.frame.DataFrame'>\n",
      "RangeIndex: 87569 entries, 0 to 87568\n",
      "Data columns (total 2 columns):\n",
      " #   Column               Non-Null Count  Dtype \n",
      "---  ------               --------------  ----- \n",
      " 0   Responder_id         87569 non-null  int64 \n",
      " 1   LanguagesWorkedWith  87569 non-null  object\n",
      "dtypes: int64(1), object(1)\n",
      "memory usage: 1.3+ MB\n"
     ]
    }
   ],
   "source": [
    "df.info()"
   ]
  },
  {
   "cell_type": "code",
   "execution_count": 5,
   "metadata": {},
   "outputs": [],
   "source": [
    "tot_list = [x for sublist in (i.split(\";\") for i in df[\"LanguagesWorkedWith\"]) for x in sublist]"
   ]
  },
  {
   "cell_type": "code",
   "execution_count": null,
   "metadata": {},
   "outputs": [],
   "source": []
  },
  {
   "cell_type": "code",
   "execution_count": 6,
   "metadata": {},
   "outputs": [
    {
     "data": {
      "text/plain": [
       "['HTML/CSS',\n",
       " 'Java',\n",
       " 'JavaScript',\n",
       " 'Python',\n",
       " 'C++',\n",
       " 'HTML/CSS',\n",
       " 'Python',\n",
       " 'HTML/CSS',\n",
       " 'C',\n",
       " 'C++']"
      ]
     },
     "execution_count": 6,
     "metadata": {},
     "output_type": "execute_result"
    }
   ],
   "source": [
    "a = tot_list\n",
    "a[:10]"
   ]
  },
  {
   "cell_type": "code",
   "execution_count": 9,
   "metadata": {},
   "outputs": [],
   "source": [
    "last_lang = pd.Series(a).value_counts()[:15]"
   ]
  },
  {
   "cell_type": "code",
   "execution_count": 10,
   "metadata": {},
   "outputs": [
    {
     "data": {
      "text/plain": [
       "JavaScript               59219\n",
       "HTML/CSS                 55466\n",
       "SQL                      47544\n",
       "Python                   36443\n",
       "Java                     35917\n",
       "Bash/Shell/PowerShell    31991\n",
       "C#                       27097\n",
       "PHP                      23030\n",
       "C++                      20524\n",
       "TypeScript               18523\n",
       "C                        18017\n",
       "Other(s):                 7920\n",
       "Ruby                      7331\n",
       "Go                        7201\n",
       "Assembly                  5833\n",
       "dtype: int64"
      ]
     },
     "execution_count": 10,
     "metadata": {},
     "output_type": "execute_result"
    }
   ],
   "source": [
    "last_lang"
   ]
  },
  {
   "cell_type": "code",
   "execution_count": 11,
   "metadata": {},
   "outputs": [
    {
     "data": {
      "image/png": "[encoded data removed]",
      "text/plain": [
       "<Figure size 720x576 with 1 Axes>"
      ]
     },
     "metadata": {
      "needs_background": "light"
     },
     "output_type": "display_data"
    }
   ],
   "source": [
    "last_lang.plot.barh(figsize = (10, 8))\n",
    "plt.show()"
   ]
  },
  {
   "cell_type": "code",
   "execution_count": null,
   "metadata": {},
   "outputs": [],
   "source": []
  }
 ],
 "metadata": {
  "kernelspec": {
   "display_name": "Python 3",
   "language": "python",
   "name": "python3"
  },
  "language_info": {
   "codemirror_mode": {
    "name": "ipython",
    "version": 3
   },
   "file_extension": ".py",
   "mimetype": "text/x-python",
   "name": "python",
   "nbconvert_exporter": "python",
   "pygments_lexer": "ipython3",
   "version": "3.7.6"
  }
 },
 "nbformat": 4,
 "nbformat_minor": 4
}
