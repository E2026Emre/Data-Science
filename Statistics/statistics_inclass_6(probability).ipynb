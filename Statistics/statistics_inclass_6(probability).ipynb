{
 "cells": [
  {
   "cell_type": "markdown",
   "metadata": {},
   "source": [
    "## Head and Tail"
   ]
  },
  {
   "cell_type": "code",
   "execution_count": 1,
   "metadata": {},
   "outputs": [
    {
     "data": {
      "text/plain": [
       "'T'"
      ]
     },
     "execution_count": 1,
     "metadata": {},
     "output_type": "execute_result"
    }
   ],
   "source": [
    "import random\n",
    "\n",
    "coin = (\"H\", \"T\")\n",
    "\n",
    "random.choice(coin)"
   ]
  },
  {
   "cell_type": "code",
   "execution_count": 16,
   "metadata": {},
   "outputs": [
    {
     "name": "stdout",
     "output_type": "stream",
     "text": [
      "P(Heads): 0.6\n",
      "P(Tails): 0.4\n"
     ]
    }
   ],
   "source": [
    "results = {\"H\":0, \"T\":0}\n",
    "\n",
    "for i in range(10):\n",
    "    results[random.choice(list(results.keys()))] += 1\n",
    "    \n",
    "print(\"P(Heads):\", results[\"H\"]/sum(results.values()))\n",
    "print(\"P(Tails):\", results[\"T\"]/sum(results.values()))"
   ]
  },
  {
   "cell_type": "markdown",
   "metadata": {},
   "source": [
    "## Rolling 2 Dice"
   ]
  },
  {
   "cell_type": "code",
   "execution_count": 18,
   "metadata": {},
   "outputs": [],
   "source": [
    "import numpy as np\n",
    "import seaborn as sns\n",
    "import matplotlib.pyplot as plt"
   ]
  },
  {
   "cell_type": "code",
   "execution_count": 19,
   "metadata": {},
   "outputs": [],
   "source": [
    "np.random.seed(51)"
   ]
  },
  {
   "cell_type": "code",
   "execution_count": 20,
   "metadata": {},
   "outputs": [],
   "source": [
    "d1 = np.array([1,2,3,4,5,6])\n",
    "d2 = np.array([1,2,3,4,5,6])"
   ]
  },
  {
   "cell_type": "code",
   "execution_count": 32,
   "metadata": {},
   "outputs": [],
   "source": [
    "dice_1 = []\n",
    "dice_2 = []\n",
    "\n",
    "sums = []\n",
    "\n",
    "for i in range(100):\n",
    "    roll1 = np.random.choice(d1)\n",
    "    roll2 = np.random.choice(d2)\n",
    "    dice_1.append(roll1)\n",
    "    dice_2.append(roll2)\n",
    "    sums.append(roll1+roll2)"
   ]
  },
  {
   "cell_type": "code",
   "execution_count": 33,
   "metadata": {},
   "outputs": [
    {
     "name": "stdout",
     "output_type": "stream",
     "text": [
      "[4, 6, 2, 6, 2, 2, 4, 3, 6, 2, 1, 4, 6, 5, 3, 6, 1, 2, 5, 6, 3, 5, 5, 5, 1, 6, 2, 1, 5, 5, 6, 2, 5, 4, 5, 5, 3, 1, 1, 2, 2, 3, 6, 2, 6, 4, 3, 6, 4, 3, 5, 4, 3, 3, 3, 1, 5, 4, 4, 4, 5, 5, 4, 1, 6, 5, 1, 3, 1, 1, 6, 5, 1, 4, 5, 5, 4, 1, 4, 3, 1, 6, 3, 1, 1, 1, 4, 6, 6, 2, 4, 6, 5, 1, 1, 3, 2, 4, 2, 6]\n",
      "[6, 1, 6, 6, 5, 2, 4, 4, 5, 2, 4, 4, 5, 6, 5, 1, 4, 6, 5, 6, 2, 6, 1, 6, 5, 5, 3, 6, 3, 5, 3, 2, 4, 5, 2, 4, 5, 1, 1, 6, 3, 6, 2, 5, 5, 6, 6, 1, 6, 6, 1, 6, 4, 5, 4, 5, 4, 1, 2, 5, 5, 4, 1, 2, 3, 1, 3, 1, 3, 6, 1, 4, 5, 5, 6, 3, 4, 4, 5, 6, 5, 1, 2, 2, 5, 4, 2, 4, 4, 1, 3, 6, 5, 5, 4, 3, 6, 1, 5, 6]\n",
      "[10, 7, 8, 12, 7, 4, 8, 7, 11, 4, 5, 8, 11, 11, 8, 7, 5, 8, 10, 12, 5, 11, 6, 11, 6, 11, 5, 7, 8, 10, 9, 4, 9, 9, 7, 9, 8, 2, 2, 8, 5, 9, 8, 7, 11, 10, 9, 7, 10, 9, 6, 10, 7, 8, 7, 6, 9, 5, 6, 9, 10, 9, 5, 3, 9, 6, 4, 4, 4, 7, 7, 9, 6, 9, 11, 8, 8, 5, 9, 9, 6, 7, 5, 3, 6, 5, 6, 10, 10, 3, 7, 12, 10, 6, 5, 6, 8, 5, 7, 12]\n"
     ]
    }
   ],
   "source": [
    "print(dice_1)\n",
    "print(dice_2)\n",
    "print(sums)"
   ]
  },
  {
   "cell_type": "code",
   "execution_count": 34,
   "metadata": {},
   "outputs": [
    {
     "data": {
      "text/plain": [
       "<matplotlib.axes._subplots.AxesSubplot at 0x2a2fd1cab08>"
      ]
     },
     "execution_count": 34,
     "metadata": {},
     "output_type": "execute_result"
    },
    {
     "data": {
      "image/png": "[encoded data removed]",
      "text/plain": [
       "<Figure size 864x288 with 2 Axes>"
      ]
     },
     "metadata": {
      "needs_background": "light"
     },
     "output_type": "display_data"
    }
   ],
   "source": [
    "fig, (ax1, ax2) = plt.subplots(ncols=2, sharey=True, figsize=(12,4))\n",
    "sns.countplot(dice_1, ax = ax1)\n",
    "sns.countplot(dice_2, ax = ax2)"
   ]
  },
  {
   "cell_type": "code",
   "execution_count": 35,
   "metadata": {},
   "outputs": [
    {
     "data": {
      "text/plain": [
       "<matplotlib.axes._subplots.AxesSubplot at 0x2a2fd277a88>"
      ]
     },
     "execution_count": 35,
     "metadata": {},
     "output_type": "execute_result"
    },
    {
     "data": {
      "image/png": "[encoded data removed]",
      "text/plain": [
       "<Figure size 432x288 with 1 Axes>"
      ]
     },
     "metadata": {
      "needs_background": "light"
     },
     "output_type": "display_data"
    }
   ],
   "source": [
    "sns.countplot(sums)"
   ]
  },
  {
   "cell_type": "code",
   "execution_count": 58,
   "metadata": {},
   "outputs": [
    {
     "name": "stdout",
     "output_type": "stream",
     "text": [
      "P(2): 0.0200\n",
      "P(3): 0.0300\n",
      "P(4): 0.0600\n",
      "P(5): 0.1200\n",
      "P(6): 0.1200\n",
      "P(7): 0.1500\n",
      "P(8): 0.1300\n",
      "P(9): 0.1500\n",
      "P(10): 0.1000\n",
      "P(11): 0.0800\n",
      "P(12): 0.0400\n"
     ]
    }
   ],
   "source": [
    "for i in set(sums):\n",
    "    print(\"P(%d): %.4f\" % (i, sums.count(i)/len(sums)))"
   ]
  },
  {
   "cell_type": "code",
   "execution_count": 59,
   "metadata": {},
   "outputs": [
    {
     "name": "stdout",
     "output_type": "stream",
     "text": [
      "P(12):  0.04\n"
     ]
    }
   ],
   "source": [
    "print(\"P(12): \", sums.count(12)/len(sums))"
   ]
  },
  {
   "cell_type": "markdown",
   "metadata": {},
   "source": [
    "# Combinatoric Generators"
   ]
  },
  {
   "cell_type": "markdown",
   "metadata": {},
   "source": [
    "## Product"
   ]
  },
  {
   "cell_type": "code",
   "execution_count": 60,
   "metadata": {},
   "outputs": [],
   "source": [
    "import itertools as it"
   ]
  },
  {
   "cell_type": "code",
   "execution_count": 62,
   "metadata": {},
   "outputs": [
    {
     "name": "stdout",
     "output_type": "stream",
     "text": [
      "[('H', 'H', 'H'), ('H', 'H', 'T'), ('H', 'T', 'H'), ('H', 'T', 'T'), ('T', 'H', 'H'), ('T', 'H', 'T'), ('T', 'T', 'H'), ('T', 'T', 'T')]\n"
     ]
    }
   ],
   "source": [
    "cp = list(it.product(\"HT\", repeat=3))\n",
    "print(cp)"
   ]
  },
  {
   "cell_type": "code",
   "execution_count": 63,
   "metadata": {},
   "outputs": [
    {
     "data": {
      "text/plain": [
       "8"
      ]
     },
     "execution_count": 63,
     "metadata": {},
     "output_type": "execute_result"
    }
   ],
   "source": [
    "len(cp)"
   ]
  },
  {
   "cell_type": "code",
   "execution_count": 40,
   "metadata": {},
   "outputs": [
    {
     "name": "stdout",
     "output_type": "stream",
     "text": [
      "[('1', 'H'), ('1', 'T'), ('2', 'H'), ('2', 'T'), ('3', 'H'), ('3', 'T'), ('4', 'H'), ('4', 'T'), ('5', 'H'), ('5', 'T'), ('6', 'H'), ('6', 'T')]\n"
     ]
    }
   ],
   "source": [
    "cp2 = list(it.product(\"123456\", [\"H\", \"T\"]))\n",
    "print(cp2)"
   ]
  },
  {
   "cell_type": "code",
   "execution_count": 41,
   "metadata": {},
   "outputs": [
    {
     "data": {
      "text/plain": [
       "12"
      ]
     },
     "execution_count": 41,
     "metadata": {},
     "output_type": "execute_result"
    }
   ],
   "source": [
    "len(cp2)"
   ]
  },
  {
   "cell_type": "markdown",
   "metadata": {},
   "source": [
    "## Permutations"
   ]
  },
  {
   "cell_type": "code",
   "execution_count": 42,
   "metadata": {},
   "outputs": [
    {
     "data": {
      "text/plain": [
       "24"
      ]
     },
     "execution_count": 42,
     "metadata": {},
     "output_type": "execute_result"
    }
   ],
   "source": [
    "import math\n",
    "\n",
    "math.factorial(4)"
   ]
  },
  {
   "cell_type": "code",
   "execution_count": 45,
   "metadata": {},
   "outputs": [],
   "source": [
    "def permutation(n,r):\n",
    "    return math.factorial(n)/math.factorial(n-r)"
   ]
  },
  {
   "cell_type": "code",
   "execution_count": 46,
   "metadata": {},
   "outputs": [
    {
     "data": {
      "text/plain": [
       "12.0"
      ]
     },
     "execution_count": 46,
     "metadata": {},
     "output_type": "execute_result"
    }
   ],
   "source": [
    "permutation(4,2)"
   ]
  },
  {
   "cell_type": "code",
   "execution_count": 47,
   "metadata": {},
   "outputs": [
    {
     "name": "stdout",
     "output_type": "stream",
     "text": [
      "('G', 'R')\n",
      "('G', 'Y')\n",
      "('G', 'B')\n",
      "('R', 'G')\n",
      "('R', 'Y')\n",
      "('R', 'B')\n",
      "('Y', 'G')\n",
      "('Y', 'R')\n",
      "('Y', 'B')\n",
      "('B', 'G')\n",
      "('B', 'R')\n",
      "('B', 'Y')\n"
     ]
    }
   ],
   "source": [
    "perm = it.permutations(\"GRYB\", 2)\n",
    "\n",
    "for i in list(perm):\n",
    "    print(i)"
   ]
  },
  {
   "cell_type": "markdown",
   "metadata": {},
   "source": [
    "## Combinations"
   ]
  },
  {
   "cell_type": "code",
   "execution_count": 48,
   "metadata": {},
   "outputs": [],
   "source": [
    "def combination(n,r):\n",
    "    return math.factorial(n)/(math.factorial(n-r) * math.factorial(r))"
   ]
  },
  {
   "cell_type": "code",
   "execution_count": 49,
   "metadata": {},
   "outputs": [
    {
     "data": {
      "text/plain": [
       "6.0"
      ]
     },
     "execution_count": 49,
     "metadata": {},
     "output_type": "execute_result"
    }
   ],
   "source": [
    "combination(4,2)"
   ]
  },
  {
   "cell_type": "code",
   "execution_count": 52,
   "metadata": {},
   "outputs": [],
   "source": [
    "comb = it.combinations(\"GRYB\", 2)"
   ]
  },
  {
   "cell_type": "code",
   "execution_count": 53,
   "metadata": {},
   "outputs": [
    {
     "name": "stdout",
     "output_type": "stream",
     "text": [
      "('G', 'R')\n",
      "('G', 'Y')\n",
      "('G', 'B')\n",
      "('R', 'Y')\n",
      "('R', 'B')\n",
      "('Y', 'B')\n"
     ]
    }
   ],
   "source": [
    "for i in list(comb):\n",
    "    print(i)"
   ]
  },
  {
   "cell_type": "code",
   "execution_count": 54,
   "metadata": {},
   "outputs": [],
   "source": [
    "comb2 = it.combinations(\"GGYB\", 2)"
   ]
  },
  {
   "cell_type": "code",
   "execution_count": 55,
   "metadata": {},
   "outputs": [
    {
     "name": "stdout",
     "output_type": "stream",
     "text": [
      "('G', 'G')\n",
      "('G', 'Y')\n",
      "('G', 'B')\n",
      "('G', 'Y')\n",
      "('G', 'B')\n",
      "('Y', 'B')\n"
     ]
    }
   ],
   "source": [
    "for i in list(comb2):\n",
    "    print(i)"
   ]
  },
  {
   "cell_type": "code",
   "execution_count": 56,
   "metadata": {},
   "outputs": [],
   "source": [
    "comb3 = it.combinations_with_replacement(\"GGYB\", 2)"
   ]
  },
  {
   "cell_type": "code",
   "execution_count": 57,
   "metadata": {},
   "outputs": [
    {
     "name": "stdout",
     "output_type": "stream",
     "text": [
      "('G', 'G')\n",
      "('G', 'G')\n",
      "('G', 'Y')\n",
      "('G', 'B')\n",
      "('G', 'G')\n",
      "('G', 'Y')\n",
      "('G', 'B')\n",
      "('Y', 'Y')\n",
      "('Y', 'B')\n",
      "('B', 'B')\n"
     ]
    }
   ],
   "source": [
    "for i in list(comb3):\n",
    "    print(i)"
   ]
  },
  {
   "cell_type": "code",
   "execution_count": null,
   "metadata": {},
   "outputs": [],
   "source": []
  }
 ],
 "metadata": {
  "kernelspec": {
   "display_name": "Python 3",
   "language": "python",
   "name": "python3"
  },
  "language_info": {
   "codemirror_mode": {
    "name": "ipython",
    "version": 3
   },
   "file_extension": ".py",
   "mimetype": "text/x-python",
   "name": "python",
   "nbconvert_exporter": "python",
   "pygments_lexer": "ipython3",
   "version": "3.7.6"
  }
 },
 "nbformat": 4,
 "nbformat_minor": 4
}
